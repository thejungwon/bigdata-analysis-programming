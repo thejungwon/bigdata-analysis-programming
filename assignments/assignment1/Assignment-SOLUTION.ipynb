{
 "cells": [
  {
   "cell_type": "markdown",
   "metadata": {},
   "source": [
    "### 1. 윤년(leap year) 확인하는 함수 만들기\n",
    "태양력에서 2월은 28일까지 있는 것이 평년이다. 그러나 2월을 29일로 둔 해를 윤년이라 하여 치윤법에 따라 400년에 97년을 윤년으로 두고 있다. 이것은 1년의 길이가 365일로 실제보다 0.2422일 짧은 것이므로, 점차 계절과 차이가 발생하게 되는 것을 해결하고자 한 것이다.\n",
    "[네이버 지식백과] 윤년 [leap year, 閏年] (두산백과)\n",
    "\n",
    "윤년은 연도가 4의 배수이면서, 100의 배수가 아닐 때 또는 400의 배수일 때이다."
   ]
  },
  {
   "cell_type": "code",
   "execution_count": 1,
   "metadata": {},
   "outputs": [
    {
     "name": "stdout",
     "output_type": "stream",
     "text": [
      "False\n",
      "True\n",
      "True\n"
     ]
    }
   ],
   "source": [
    "def is_leap_year(year=0):\n",
    "    leap_year = True\n",
    "    \n",
    "    if (year%4==0 and year%100!=0) or (year%400==0):\n",
    "        leap_year = True\n",
    "    else:\n",
    "        leap_year = False\n",
    "    \n",
    "    return leap_yearg\n",
    "\n",
    "print(is_leap_year(1900)) # False\n",
    "print(is_leap_year(2000)) # True\n",
    "print(is_leap_year(2012)) # True"
   ]
  },
  {
   "cell_type": "markdown",
   "metadata": {},
   "source": [
    "### 2. 구구단\n",
    "gugudan함수에 n을 입력하여 해당하는 n에 대한 구구단 출력 함수를 완성하시오 (hint:for문)"
   ]
  },
  {
   "cell_type": "code",
   "execution_count": 2,
   "metadata": {},
   "outputs": [
    {
     "name": "stdout",
     "output_type": "stream",
     "text": [
      "2단\n",
      "2 * 1 = 2\n",
      "2 * 2 = 4\n",
      "2 * 3 = 6\n",
      "2 * 4 = 8\n",
      "2 * 5 = 10\n",
      "2 * 6 = 12\n",
      "2 * 7 = 14\n",
      "2 * 8 = 16\n",
      "2 * 9 = 18\n",
      "3단\n",
      "3 * 1 = 3\n",
      "3 * 2 = 6\n",
      "3 * 3 = 9\n",
      "3 * 4 = 12\n",
      "3 * 5 = 15\n",
      "3 * 6 = 18\n",
      "3 * 7 = 21\n",
      "3 * 8 = 24\n",
      "3 * 9 = 27\n",
      "9단\n",
      "9 * 1 = 9\n",
      "9 * 2 = 18\n",
      "9 * 3 = 27\n",
      "9 * 4 = 36\n",
      "9 * 5 = 45\n",
      "9 * 6 = 54\n",
      "9 * 7 = 63\n",
      "9 * 8 = 72\n",
      "9 * 9 = 81\n"
     ]
    }
   ],
   "source": [
    "def gugudan(n=2):\n",
    "    \n",
    "    for i in range(1,10):\n",
    "        print(\"{} * {} = {}\".format(n,i,n*i))\n",
    "    \n",
    "\n",
    "print(\"2단\")\n",
    "gugudan(2)\n",
    "print(\"3단\")\n",
    "gugudan(3)\n",
    "print(\"9단\")\n",
    "gugudan(9)"
   ]
  },
  {
   "cell_type": "markdown",
   "metadata": {},
   "source": [
    "### 3. 별출력\n",
    "n이 주어졌을때, N행N열이 되게 *을 출력하시오"
   ]
  },
  {
   "cell_type": "code",
   "execution_count": 3,
   "metadata": {},
   "outputs": [
    {
     "name": "stdout",
     "output_type": "stream",
     "text": [
      "n=5\n",
      "*****\n",
      "*****\n",
      "*****\n",
      "*****\n",
      "*****\n",
      "n=3\n",
      "***\n",
      "***\n",
      "***\n",
      "n=2\n",
      "**\n",
      "**\n"
     ]
    }
   ],
   "source": [
    "def stars(n=5):\n",
    "    #n이 5일때 예제\n",
    "    for _ in range(n):\n",
    "        for _ in range(n):\n",
    "            print(\"*\", end=\"\")\n",
    "        print(\"\")\n",
    "\n",
    "print(\"n=5\")\n",
    "stars(5)\n",
    "print(\"n=3\")\n",
    "stars(3)\n",
    "print(\"n=2\")\n",
    "stars(2)"
   ]
  },
  {
   "cell_type": "markdown",
   "metadata": {},
   "source": [
    "### 4. 문자열\n",
    "문자열을 역으로 출력하는 함수를 완성하시오"
   ]
  },
  {
   "cell_type": "code",
   "execution_count": 4,
   "metadata": {},
   "outputs": [
    {
     "data": {
      "text/plain": [
       "'olleh'"
      ]
     },
     "execution_count": 4,
     "metadata": {},
     "output_type": "execute_result"
    }
   ],
   "source": [
    "def reverse(s=\"\"):\n",
    "    reverse_s = s[::-1]\n",
    "    return reverse_s\n",
    "\n",
    "reverse(\"hello\") #olleh가 리턴되어야 함!"
   ]
  },
  {
   "cell_type": "markdown",
   "metadata": {},
   "source": [
    "### 5. 카운팅 using dictionary\n",
    "다음 list에서 각각의 동물들이 몇번 나왔는지 dictionary형태로 저장하세요!\n"
   ]
  },
  {
   "cell_type": "code",
   "execution_count": 5,
   "metadata": {},
   "outputs": [
    {
     "name": "stdout",
     "output_type": "stream",
     "text": [
      "{'사자': 2, '호랑이': 3, '토끼': 1, '말': 2}\n"
     ]
    }
   ],
   "source": [
    "count_dict={}\n",
    "animal_list = [\"사자\",\"호랑이\",\"사자\",\"호랑이\",\"호랑이\",\"토끼\",\"말\",\"말\"]\n",
    "\n",
    "for i in animal_list:\n",
    "    count_dict[i] = count_dict.get(i,0) + 1\n",
    "\n",
    "print(count_dict)\n",
    "# 정답: {'사자': 2, '호랑이': 3, '토끼': 1, '말': 2}"
   ]
  },
  {
   "cell_type": "markdown",
   "metadata": {},
   "source": [
    "### 6. 카운팅 using dictionary advanced\n",
    "다음 list에서 각각의 동물들이 몇번 나왔는지 dictionary형태로 저장하세요! 단, 집 토끼와 산 토끼는 같은 토끼로 간주 됩니다!\n"
   ]
  },
  {
   "cell_type": "code",
   "execution_count": 6,
   "metadata": {},
   "outputs": [
    {
     "name": "stdout",
     "output_type": "stream",
     "text": [
      "{'사자': 2, '호랑이': 3, '토끼': 1, '말': 2}\n"
     ]
    }
   ],
   "source": [
    "count_dict={}\n",
    "animal_list = [\"백 사자\",\"백두산 호랑이\",\"저승 사자\",\"시베리아 호랑이\",\"벵갈 호랑이\",\"집 토끼\",\"얼룩 말\",\"조랑 말\"]\n",
    "\n",
    "#여기에 코드를 작성하세요\n",
    "for i in animal_list:\n",
    "    i = i.split()[1]\n",
    "    count_dict[i] = count_dict.get(i,0) + 1\n",
    "\n",
    "print(count_dict)\n",
    "# 정답: {'사자': 2, '호랑이': 3, '토끼': 1, '말': 2}"
   ]
  },
  {
   "cell_type": "markdown",
   "metadata": {},
   "source": [
    "### 7. Numpy array mask\n",
    "numpy array안에 있는 원소들중 음수인 원소를 0으로 변경하세요!"
   ]
  },
  {
   "cell_type": "code",
   "execution_count": 7,
   "metadata": {},
   "outputs": [
    {
     "name": "stdout",
     "output_type": "stream",
     "text": [
      "[  0   0 100   3   0  30]\n"
     ]
    }
   ],
   "source": [
    "import numpy as np\n",
    "arr = np.array([-1,-2,100,3,0,30])\n",
    "arr[arr<0] = 0\n",
    "print(arr)"
   ]
  },
  {
   "cell_type": "markdown",
   "metadata": {},
   "source": [
    "### 8. Pandas data read\n",
    "data.txt파일을 pandas를 이용해 읽었을 시, 각각의 column에 올바르게 배치되게 하세요"
   ]
  },
  {
   "cell_type": "markdown",
   "metadata": {},
   "source": [
    "올바른 출력\n",
    "<img src=\"image.png\"/>"
   ]
  },
  {
   "cell_type": "code",
   "execution_count": 8,
   "metadata": {},
   "outputs": [
    {
     "data": {
      "text/html": [
       "<div>\n",
       "<style scoped>\n",
       "    .dataframe tbody tr th:only-of-type {\n",
       "        vertical-align: middle;\n",
       "    }\n",
       "\n",
       "    .dataframe tbody tr th {\n",
       "        vertical-align: top;\n",
       "    }\n",
       "\n",
       "    .dataframe thead th {\n",
       "        text-align: right;\n",
       "    }\n",
       "</style>\n",
       "<table border=\"1\" class=\"dataframe\">\n",
       "  <thead>\n",
       "    <tr style=\"text-align: right;\">\n",
       "      <th></th>\n",
       "      <th>topic</th>\n",
       "      <th>media</th>\n",
       "      <th>date</th>\n",
       "      <th>title</th>\n",
       "      <th>desc</th>\n",
       "    </tr>\n",
       "  </thead>\n",
       "  <tbody>\n",
       "    <tr>\n",
       "      <th>0</th>\n",
       "      <td>비트코인</td>\n",
       "      <td>ZDNet Korea</td>\n",
       "      <td>2019-04-14 09:58:00</td>\n",
       "      <td>비트코인 가능성 알려면, 결함 전제로 규제 정비必</td>\n",
       "      <td>금융硏 비트코인 쇠락과 내재적 결함 보고서(지디넷코리아=손예술 기자)</td>\n",
       "    </tr>\n",
       "    <tr>\n",
       "      <th>1</th>\n",
       "      <td>비트코인</td>\n",
       "      <td>한국경제</td>\n",
       "      <td>2019-03-09 07:02:00</td>\n",
       "      <td>워렌 버핏 \"비트코인은 망상\" vs 하버드대 교수 \"망상 아니다\"</td>\n",
       "      <td>비트코인 놓고 상반된 평가 내놔[ 김산하 기자  ]</td>\n",
       "    </tr>\n",
       "    <tr>\n",
       "      <th>2</th>\n",
       "      <td>비트코인</td>\n",
       "      <td>한국경제</td>\n",
       "      <td>2019-04-07 09:02:00</td>\n",
       "      <td>가상화폐, 94년 인터넷 수준…비트코인캐시가 선두주자 될 것</td>\n",
       "      <td>[코인터뷰] 스테판 러스트 비트코인닷컴 비즈니스총괄[ 김산하 기자  ]</td>\n",
       "    </tr>\n",
       "  </tbody>\n",
       "</table>\n",
       "</div>"
      ],
      "text/plain": [
       "  topic        media                 date  \\\n",
       "0  비트코인  ZDNet Korea  2019-04-14 09:58:00   \n",
       "1  비트코인         한국경제  2019-03-09 07:02:00   \n",
       "2  비트코인         한국경제  2019-04-07 09:02:00   \n",
       "\n",
       "                                  title  \\\n",
       "0           비트코인 가능성 알려면, 결함 전제로 규제 정비必   \n",
       "1  워렌 버핏 \"비트코인은 망상\" vs 하버드대 교수 \"망상 아니다\"   \n",
       "2     가상화폐, 94년 인터넷 수준…비트코인캐시가 선두주자 될 것   \n",
       "\n",
       "                                      desc  \n",
       "0   금융硏 비트코인 쇠락과 내재적 결함 보고서(지디넷코리아=손예술 기자)  \n",
       "1             비트코인 놓고 상반된 평가 내놔[ 김산하 기자  ]  \n",
       "2  [코인터뷰] 스테판 러스트 비트코인닷컴 비즈니스총괄[ 김산하 기자  ]  "
      ]
     },
     "execution_count": 8,
     "metadata": {},
     "output_type": "execute_result"
    }
   ],
   "source": [
    "import pandas as pd\n",
    "\n",
    "df = pd.read_csv(\"data.txt\",names=[\"topic\",\"media\",\"date\",\"title\",\"desc\"], sep=\"\\t\")\n",
    "df"
   ]
  },
  {
   "cell_type": "code",
   "execution_count": null,
   "metadata": {},
   "outputs": [],
   "source": []
  }
 ],
 "metadata": {
  "kernelspec": {
   "display_name": "Python 3",
   "language": "python",
   "name": "python3"
  },
  "language_info": {
   "codemirror_mode": {
    "name": "ipython",
    "version": 3
   },
   "file_extension": ".py",
   "mimetype": "text/x-python",
   "name": "python",
   "nbconvert_exporter": "python",
   "pygments_lexer": "ipython3",
   "version": "3.7.6"
  }
 },
 "nbformat": 4,
 "nbformat_minor": 2
}
