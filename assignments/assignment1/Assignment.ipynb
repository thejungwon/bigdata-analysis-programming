{
 "cells": [
  {
   "cell_type": "markdown",
   "metadata": {},
   "source": [
    "### 1. 윤년(leap year) 확인하는 함수 만들기\n",
    "태양력에서 2월은 28일까지 있는 것이 평년이다. 그러나 2월을 29일로 둔 해를 윤년이라 하여 치윤법에 따라 400년에 97년을 윤년으로 두고 있다. 이것은 1년의 길이가 365일로 실제보다 0.2422일 짧은 것이므로, 점차 계절과 차이가 발생하게 되는 것을 해결하고자 한 것이다.\n",
    "[네이버 지식백과] 윤년 [leap year, 閏年] (두산백과)\n",
    "\n",
    "윤년은 연도가 4의 배수이면서, 100의 배수가 아닐 때 또는 400의 배수일 때이다."
   ]
  },
  {
   "cell_type": "code",
   "execution_count": null,
   "metadata": {},
   "outputs": [],
   "source": [
    "def is_leap_year(year=0):\n",
    "    leap_year = True\n",
    "    \n",
    "    #여기에 코드를 작성하세요!\n",
    "    \n",
    "    return leap_year\n",
    "\n",
    "print(is_leap_year(1900)) # False\n",
    "print(is_leap_year(2000)) # True\n",
    "print(is_leap_year(2012)) # True"
   ]
  },
  {
   "cell_type": "markdown",
   "metadata": {},
   "source": [
    "### 2. 구구단\n",
    "gugudan함수에 n을 입력하여 해당하는 n에 대한 구구단 출력 함수를 완성하시오 (hint:for문)"
   ]
  },
  {
   "cell_type": "code",
   "execution_count": null,
   "metadata": {},
   "outputs": [],
   "source": [
    "def gugudan(n=2):\n",
    "    #샘플 아웃풋\n",
    "    print(\"2 * 1 = 2\")\n",
    "    print(\"2 * 2 = 4\")\n",
    "    print(\"2 * 3 = 6\")\n",
    "    print(\"2 * 4 = 8\")\n",
    "    print(\"2 * 5 = 10\")\n",
    "    print(\"2 * 6 = 12\")\n",
    "    print(\"2 * 7 = 14\")\n",
    "    print(\"2 * 8 = 16\")\n",
    "    print(\"2 * 9 = 18\")\n",
    "\n",
    "print(\"2단\")\n",
    "gugudan(2)\n",
    "print(\"3단\")\n",
    "gugudan(3)\n",
    "print(\"9단\")\n",
    "gugudan(9)"
   ]
  },
  {
   "cell_type": "markdown",
   "metadata": {},
   "source": [
    "### 3. 별출력\n",
    "n이 주어졌을때, N행N열이 되게 *을 출력하시오"
   ]
  },
  {
   "cell_type": "code",
   "execution_count": null,
   "metadata": {},
   "outputs": [],
   "source": [
    "def stars(n=5):\n",
    "    #n이 5일때 예제\n",
    "    print(\"*****\")\n",
    "    print(\"*****\")\n",
    "    print(\"*****\")\n",
    "    print(\"*****\")\n",
    "    print(\"*****\")\n",
    "\n",
    "print(\"n=5\")\n",
    "stars(5)\n",
    "print(\"n=3\")\n",
    "stars(3)\n",
    "print(\"n=2\")\n",
    "stars(2)"
   ]
  },
  {
   "cell_type": "markdown",
   "metadata": {},
   "source": [
    "### 4. 문자열\n",
    "문자열을 역으로 출력하는 함수를 완성하시오"
   ]
  },
  {
   "cell_type": "code",
   "execution_count": null,
   "metadata": {},
   "outputs": [],
   "source": [
    "def reverse(s=\"\"):\n",
    "    reverse_s = \"\"\n",
    "    ##여기에 코드작성\n",
    "    return reverse_s\n",
    "\n",
    "reverse(\"hello\") #olleh가 리턴되어야 함!"
   ]
  },
  {
   "cell_type": "markdown",
   "metadata": {},
   "source": [
    "### 5. 카운팅 using dictionary\n",
    "다음 list에서 각각의 동물들이 몇번 나왔는지 dictionary형태로 저장하세요!\n"
   ]
  },
  {
   "cell_type": "code",
   "execution_count": null,
   "metadata": {},
   "outputs": [],
   "source": [
    "count_dict={}\n",
    "animal_list = [\"사자\",\"호랑이\",\"사자\",\"호랑이\",\"호랑이\",\"토끼\",\"말\",\"말\"]\n",
    "\n",
    "#여기에 코드를 작성하세요\n",
    "\n",
    "print(count_dict)\n",
    "# 정답: {'사자': 2, '호랑이': 3, '토끼': 1, '말': 2}"
   ]
  },
  {
   "cell_type": "markdown",
   "metadata": {},
   "source": [
    "### 6. 카운팅 using dictionary advanced\n",
    "다음 list에서 각각의 동물들이 몇번 나왔는지 dictionary형태로 저장하세요! 단, 집 토끼와 산 토끼는 같은 토끼로 간주 됩니다!\n"
   ]
  },
  {
   "cell_type": "code",
   "execution_count": null,
   "metadata": {},
   "outputs": [],
   "source": [
    "count_dict={}\n",
    "animal_list = [\"백 사자\",\"백두산 호랑이\",\"저승 사자\",\"시베리아 호랑이\",\"벵갈 호랑이\",\"집 토끼\",\"얼룩 말\",\"조랑 말\"]\n",
    "\n",
    "#여기에 코드를 작성하세요\n",
    "\n",
    "print(count_dict)\n",
    "# 정답: {'사자': 2, '호랑이': 3, '토끼': 1, '말': 2}"
   ]
  },
  {
   "cell_type": "markdown",
   "metadata": {},
   "source": [
    "### 7. Numpy array mask\n",
    "numpy array안에 있는 원소들중 음수인 원소를 0으로 변경하세요!"
   ]
  },
  {
   "cell_type": "code",
   "execution_count": null,
   "metadata": {},
   "outputs": [],
   "source": [
    "import numpy as np\n",
    "arr = np.array([-1,-2,100,3,0,30])\n",
    "##이 부분에 음수를 0으로 만든는 코드 작성\n",
    "\n",
    "print(arr)\n",
    "# [  0   0 100   3   0  30]이 출려되야 함!"
   ]
  },
  {
   "cell_type": "markdown",
   "metadata": {},
   "source": [
    "### 8. Pandas data read\n",
    "data.txt파일을 pandas를 이용해 읽었을 시, 각각의 column에 올바르게 배치되게 하세요"
   ]
  },
  {
   "cell_type": "markdown",
   "metadata": {},
   "source": [
    "올바른 출력\n",
    "<img src=\"image.png\"/>"
   ]
  },
  {
   "cell_type": "code",
   "execution_count": null,
   "metadata": {},
   "outputs": [],
   "source": [
    "import pandas as pd\n",
    "\n",
    "df = pd.read_csv(\"data.txt\",names=[\"topic\",\"media\",\"date\",\"title\",\"desc\"])\n",
    "df"
   ]
  },
  {
   "cell_type": "code",
   "execution_count": null,
   "metadata": {},
   "outputs": [],
   "source": []
  }
 ],
 "metadata": {
  "kernelspec": {
   "display_name": "Python 3",
   "language": "python",
   "name": "python3"
  },
  "language_info": {
   "codemirror_mode": {
    "name": "ipython",
    "version": 3
   },
   "file_extension": ".py",
   "mimetype": "text/x-python",
   "name": "python",
   "nbconvert_exporter": "python",
   "pygments_lexer": "ipython3",
   "version": "3.7.6"
  }
 },
 "nbformat": 4,
 "nbformat_minor": 2
}
