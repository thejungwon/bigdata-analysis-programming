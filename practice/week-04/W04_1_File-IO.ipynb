{
 "cells": [
  {
   "cell_type": "markdown",
   "metadata": {},
   "source": [
    "# BIG DATA ANALYSIS : 파일 입출력 (File I/O)\n",
    "---"
   ]
  },
  {
   "cell_type": "markdown",
   "metadata": {},
   "source": [
    "## 1-1. 텍스트 파일 읽기-1\n",
    "<a href=\"data/text1.txt\" target=\"_blank\">text1.txt 파일 열어보기</a>"
   ]
  },
  {
   "cell_type": "code",
   "execution_count": null,
   "metadata": {},
   "outputs": [],
   "source": [
    "data = open('data/text1.txt', mode=\"r\", encoding=\"utf-8\")"
   ]
  },
  {
   "cell_type": "code",
   "execution_count": null,
   "metadata": {},
   "outputs": [],
   "source": [
    "data"
   ]
  },
  {
   "cell_type": "code",
   "execution_count": null,
   "metadata": {},
   "outputs": [],
   "source": [
    "data.read()"
   ]
  },
  {
   "cell_type": "code",
   "execution_count": null,
   "metadata": {},
   "outputs": [],
   "source": [
    "data.read()"
   ]
  },
  {
   "cell_type": "code",
   "execution_count": null,
   "metadata": {},
   "outputs": [],
   "source": [
    "data.seek(0)"
   ]
  },
  {
   "cell_type": "code",
   "execution_count": null,
   "metadata": {},
   "outputs": [],
   "source": [
    "data.read()"
   ]
  },
  {
   "cell_type": "code",
   "execution_count": null,
   "metadata": {},
   "outputs": [],
   "source": [
    "data.close()"
   ]
  },
  {
   "cell_type": "markdown",
   "metadata": {},
   "source": [
    "## 1-2. 텍스트 파일 읽기-2\n",
    "<a href=\"data/text2.txt\" target=\"_blank\">text2.txt 파일 열어보기</a>"
   ]
  },
  {
   "cell_type": "code",
   "execution_count": null,
   "metadata": {},
   "outputs": [],
   "source": [
    "data = open('data/text2.txt', mode=\"r\", encoding=\"utf-8\")"
   ]
  },
  {
   "cell_type": "code",
   "execution_count": null,
   "metadata": {},
   "outputs": [],
   "source": [
    "data.readlines()"
   ]
  },
  {
   "cell_type": "code",
   "execution_count": null,
   "metadata": {},
   "outputs": [],
   "source": [
    "# Q. 만약 다시 readlines를 출력한다면?\n",
    "data.readlines()"
   ]
  },
  {
   "cell_type": "code",
   "execution_count": null,
   "metadata": {},
   "outputs": [],
   "source": [
    "data.seek(0)"
   ]
  },
  {
   "cell_type": "code",
   "execution_count": null,
   "metadata": {},
   "outputs": [],
   "source": [
    "text = data.readlines()"
   ]
  },
  {
   "cell_type": "code",
   "execution_count": null,
   "metadata": {},
   "outputs": [],
   "source": [
    "print(type(text))"
   ]
  },
  {
   "cell_type": "code",
   "execution_count": null,
   "metadata": {},
   "outputs": [],
   "source": [
    "data.close()"
   ]
  },
  {
   "cell_type": "markdown",
   "metadata": {},
   "source": [
    "## 1-3. 텍스트 파일 읽기-3\n",
    "<a href=\"data/text3.txt\" target=\"_blank\">text3.txt 파일 열어보기</a>"
   ]
  },
  {
   "cell_type": "code",
   "execution_count": null,
   "metadata": {},
   "outputs": [],
   "source": [
    "with open('data/text3.txt', mode=\"r\" ,encoding=\"utf-8\") as f :\n",
    "    for line in f.readlines():\n",
    "        print(line)"
   ]
  },
  {
   "cell_type": "markdown",
   "metadata": {},
   "source": [
    "## 텍스트 파일 쓰기"
   ]
  },
  {
   "cell_type": "code",
   "execution_count": null,
   "metadata": {},
   "outputs": [],
   "source": [
    "with open('data/my_text.txt', mode=\"w\", encoding=\"utf-8\") as f :\n",
    "    text=\"안녕하세요, 빅데이터 분석 화이팅!!\"\n",
    "    f.write(text)\n",
    "    f.read()"
   ]
  },
  {
   "cell_type": "code",
   "execution_count": null,
   "metadata": {},
   "outputs": [],
   "source": []
  },
  {
   "cell_type": "code",
   "execution_count": null,
   "metadata": {},
   "outputs": [],
   "source": [
    "with open('data/my_text.txt', mode=\"a\", encoding=\"utf-8\") as f :\n",
    "    text=\"\\n안녕하세요, 빅데이터 분석 화이팅!!\"\n",
    "    f.write(text)"
   ]
  },
  {
   "cell_type": "code",
   "execution_count": null,
   "metadata": {},
   "outputs": [],
   "source": [
    "with open('data/my_text2.txt', mode=\"w+\", encoding=\"utf-8\") as f :\n",
    "    text=\"우리 모두 화이팅!!\"\n",
    "    f.write(text)\n",
    "    f.seek(0)\n",
    "    print(f.readlines())"
   ]
  },
  {
   "cell_type": "markdown",
   "metadata": {},
   "source": [
    "## 2-1. CSV 파일 읽기/쓰기"
   ]
  },
  {
   "cell_type": "code",
   "execution_count": null,
   "metadata": {},
   "outputs": [],
   "source": [
    "import csv\n",
    "\n",
    "with open('data/bankaccount.csv', 'r', encoding=\"utf-8\") as f:\n",
    "    csv_reader = csv.reader(f, delimiter=',')\n",
    "    for row in csv_reader:\n",
    "        print(row)"
   ]
  },
  {
   "cell_type": "code",
   "execution_count": null,
   "metadata": {},
   "outputs": [],
   "source": [
    "def fun(a=0,b=3,c=5, d=4):\n",
    "    print(a)\n",
    "    \n"
   ]
  },
  {
   "cell_type": "code",
   "execution_count": null,
   "metadata": {},
   "outputs": [],
   "source": [
    "fun(a=1,b=30)"
   ]
  },
  {
   "cell_type": "code",
   "execution_count": null,
   "metadata": {},
   "outputs": [],
   "source": [
    "fun(1,23,4)"
   ]
  },
  {
   "cell_type": "code",
   "execution_count": null,
   "metadata": {},
   "outputs": [],
   "source": [
    "with open('data/bankaccount2.csv', 'w', encoding=\"utf-8\") as f:\n",
    "    csv_reader = csv.writer(f)\n",
    "    csv_reader.writerow(['박지성', '123-123-123', '5000000'])"
   ]
  },
  {
   "cell_type": "code",
   "execution_count": null,
   "metadata": {},
   "outputs": [],
   "source": [
    "with open('data/bankaccount3.csv', 'w', encoding=\"utf-8\") as f:\n",
    "    fieldnames = ['이름', '계좌번호', '잔고']\n",
    "    writer = csv.DictWriter(f, fieldnames=fieldnames)\n",
    "    writer.writeheader()\n",
    "    writer.writerow({'이름': '류현진', '계좌번호': '000-000-000', '잔고': '1000000000000'})"
   ]
  },
  {
   "cell_type": "code",
   "execution_count": null,
   "metadata": {},
   "outputs": [],
   "source": [
    "with open('data/bankaccount3.csv', mode='r', encoding=\"utf-8\") as f:\n",
    "    csv_reader = csv.DictReader(f)\n",
    "    for row in csv_reader:\n",
    "        print(f\"{row['이름']}, {row['계좌번호']}, {row['잔고']} \")"
   ]
  },
  {
   "cell_type": "markdown",
   "metadata": {},
   "source": [
    "## 3-1. 엑셀파일 읽기"
   ]
  },
  {
   "cell_type": "code",
   "execution_count": null,
   "metadata": {},
   "outputs": [],
   "source": [
    "import sys\n",
    "sys.executable"
   ]
  },
  {
   "cell_type": "code",
   "execution_count": null,
   "metadata": {},
   "outputs": [],
   "source": [
    "import sys\n",
    "!{sys.executable} -m pip install openpyxl"
   ]
  },
  {
   "cell_type": "code",
   "execution_count": null,
   "metadata": {},
   "outputs": [],
   "source": [
    "import pprint\n",
    "from openpyxl import load_workbook\n",
    "\n",
    "load_wb = load_workbook(\"data/sample.xlsx\", data_only=True)\n",
    "load_ws = load_wb['Sheet1']\n",
    "\n",
    "\n",
    "for row in load_ws.rows:\n",
    "    for cell in row:\n",
    "        print(cell.value)"
   ]
  },
  {
   "cell_type": "code",
   "execution_count": null,
   "metadata": {},
   "outputs": [],
   "source": [
    "## Q. Dictionary에 해당 값을 저장하려면 어떻게 해야할까?\n",
    "import pprint\n",
    "from openpyxl import load_workbook\n",
    "\n",
    "load_wb = load_workbook(\"data/sample.xlsx\", data_only=True)\n",
    "load_ws = load_wb['Sheet1']\n",
    "\n",
    "ex={}\n",
    "line_cnt = 0\n",
    "col_cnt = 0\n",
    "for row in load_ws.rows:\n",
    "    for cell in row:\n",
    "        if line_cnt == 0 and col_cnt != 0:\n",
    "            ex[cell.value] = []\n",
    "        else:\n",
    "            if ex.keys() and col_cnt != 0:\n",
    "                ex[list(ex.keys())[col_cnt-1]].append(cell.value)\n",
    "        col_cnt+=1\n",
    "    line_cnt+=1\n",
    "    col_cnt=0\n",
    "pprint.pprint(ex)"
   ]
  },
  {
   "cell_type": "markdown",
   "metadata": {},
   "source": [
    "## 3-2. 엑셀파일 쓰기"
   ]
  },
  {
   "cell_type": "code",
   "execution_count": null,
   "metadata": {},
   "outputs": [],
   "source": [
    "from openpyxl import Workbook\n",
    " \n",
    "write_wb = Workbook()\n",
    " \n",
    "write_ws = write_wb.active\n",
    "\n",
    "#각 셀에 또는 행에 접근하는 방법\n",
    "write_ws['A1'] = 'A1에 접근'\n",
    "write_ws.append([1,2,3,4,5])\n",
    "write_ws.cell(10,1,'10행1열에 직접 접근')\n",
    "\n",
    "write_wb.save('data/result.xlsx')"
   ]
  }
 ],
 "metadata": {
  "kernelspec": {
   "display_name": "Python 3",
   "language": "python",
   "name": "python3"
  },
  "language_info": {
   "codemirror_mode": {
    "name": "ipython",
    "version": 3
   },
   "file_extension": ".py",
   "mimetype": "text/x-python",
   "name": "python",
   "nbconvert_exporter": "python",
   "pygments_lexer": "ipython3",
   "version": "3.6.8"
  }
 },
 "nbformat": 4,
 "nbformat_minor": 2
}
