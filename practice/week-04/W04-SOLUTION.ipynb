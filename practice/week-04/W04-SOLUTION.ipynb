{
 "cells": [
  {
   "cell_type": "markdown",
   "metadata": {},
   "source": [
    "# BIG DATA ANALYSIS: Distance and Similarity\n",
    "- 여러 종류의 Distance와 Similarity를 직접 계산해보자.\n",
    "---"
   ]
  },
  {
   "cell_type": "markdown",
   "metadata": {},
   "source": [
    "## 1. Distances"
   ]
  },
  {
   "cell_type": "code",
   "execution_count": 1,
   "metadata": {},
   "outputs": [],
   "source": [
    "import numpy as np"
   ]
  },
  {
   "cell_type": "markdown",
   "metadata": {},
   "source": [
    "<img src=\"data/distance.jpg\"/>"
   ]
  },
  {
   "cell_type": "code",
   "execution_count": 2,
   "metadata": {},
   "outputs": [],
   "source": [
    "def ManhattanDistance(x,y):\n",
    "    return np.sum(abs(x-y))\n",
    "\n",
    "\n",
    "def EuclideanDistance(x,y):\n",
    "    return np.sqrt(np.sum(np.power(x-y,2)))\n",
    "\n",
    "def Chebyshevdistance(x,y):\n",
    "    return np.max(abs(x-y))\n",
    "\n",
    "\n"
   ]
  },
  {
   "cell_type": "markdown",
   "metadata": {},
   "source": [
    "<img src=\"data/distance_table.png\"/>"
   ]
  },
  {
   "cell_type": "code",
   "execution_count": 3,
   "metadata": {},
   "outputs": [],
   "source": [
    "points =np.matrix([\n",
    "    [0,2],\n",
    "    [2,0],\n",
    "    [3,1],\n",
    "    [5,1],\n",
    "])"
   ]
  },
  {
   "cell_type": "code",
   "execution_count": 4,
   "metadata": {},
   "outputs": [
    {
     "name": "stdout",
     "output_type": "stream",
     "text": [
      "EuclideanDistance\n",
      "[[0.         2.82842712 3.16227766 5.09901951]\n",
      " [2.82842712 0.         1.41421356 3.16227766]\n",
      " [3.16227766 1.41421356 0.         2.        ]\n",
      " [5.09901951 3.16227766 2.         0.        ]]\n",
      "ManhattanDistance\n",
      "[[0. 4. 4. 6.]\n",
      " [4. 0. 2. 4.]\n",
      " [4. 2. 0. 2.]\n",
      " [6. 4. 2. 0.]]\n",
      "Chebyshevdistance\n",
      "[[0. 2. 3. 5.]\n",
      " [2. 0. 1. 3.]\n",
      " [3. 1. 0. 2.]\n",
      " [5. 3. 2. 0.]]\n"
     ]
    }
   ],
   "source": [
    "tables = np.zeros((points.shape[0],points.shape[0]))\n",
    "distances = [EuclideanDistance, ManhattanDistance, Chebyshevdistance]\n",
    "for Distance in distances:\n",
    "    for i in range(len(points)):\n",
    "        for j in range(len(points)):\n",
    "            tables[i][j]=(Distance(points[i],points[j]))\n",
    "    print(Distance.__name__)\n",
    "    print(tables)"
   ]
  },
  {
   "cell_type": "markdown",
   "metadata": {},
   "source": [
    "## 2. Minkowski 거리"
   ]
  },
  {
   "cell_type": "markdown",
   "metadata": {},
   "source": [
    "${\\displaystyle D\\left(X,Y\\right)=\\left(\\sum _{i=1}^{n}|x_{i}-y_{i}|^{p}\\right)^{1/p}}$"
   ]
  },
  {
   "cell_type": "code",
   "execution_count": 5,
   "metadata": {},
   "outputs": [],
   "source": [
    "def MinkowskiDistance(x,y,r):\n",
    "    return np.power(np.sum(np.power(abs(x-y),r)),1/r)"
   ]
  },
  {
   "cell_type": "markdown",
   "metadata": {},
   "source": [
    "## 3. Cosine Similarity / Distance"
   ]
  },
  {
   "cell_type": "markdown",
   "metadata": {},
   "source": [
    "${\\displaystyle {\\text{similarity}}=\\cos(\\theta )={\\mathbf {A} \\cdot \\mathbf {B}  \\over \\|\\mathbf {A} \\|\\|\\mathbf {B} \\|}={\\frac {\\sum \\limits _{i=1}^{n}{A_{i}B_{i}}}{{\\sqrt {\\sum \\limits _{i=1}^{n}{A_{i}^{2}}}}{\\sqrt {\\sum \\limits _{i=1}^{n}{B_{i}^{2}}}}}},}$"
   ]
  },
  {
   "cell_type": "code",
   "execution_count": 6,
   "metadata": {},
   "outputs": [],
   "source": [
    "def CosinDistance(x,y):\n",
    "    return 1-np.sum(np.multiply(x,y))/(np.sqrt(np.sum(np.power(x,2)))*np.sqrt(np.sum(np.power(y,2))))\n"
   ]
  },
  {
   "cell_type": "code",
   "execution_count": null,
   "metadata": {},
   "outputs": [],
   "source": []
  }
 ],
 "metadata": {
  "kernelspec": {
   "display_name": "Python 3",
   "language": "python",
   "name": "python3"
  },
  "language_info": {
   "codemirror_mode": {
    "name": "ipython",
    "version": 3
   },
   "file_extension": ".py",
   "mimetype": "text/x-python",
   "name": "python",
   "nbconvert_exporter": "python",
   "pygments_lexer": "ipython3",
   "version": "3.6.8"
  }
 },
 "nbformat": 4,
 "nbformat_minor": 2
}
