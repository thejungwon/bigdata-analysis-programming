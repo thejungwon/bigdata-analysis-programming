{
 "cells": [
  {
   "cell_type": "markdown",
   "metadata": {},
   "source": [
    "# BIG DATA ANALYSIS: Pandas\n",
    "---"
   ]
  },
  {
   "cell_type": "code",
   "execution_count": null,
   "metadata": {},
   "outputs": [],
   "source": [
    "import sys\n",
    "!{sys.executable} -m pip install pandas"
   ]
  },
  {
   "cell_type": "code",
   "execution_count": null,
   "metadata": {},
   "outputs": [],
   "source": [
    "import numpy as np\n",
    "import pandas as pd"
   ]
  },
  {
   "cell_type": "code",
   "execution_count": null,
   "metadata": {},
   "outputs": [],
   "source": [
    "#초기 데이터 셋팅\n",
    "data = np.random.randint(0,100,25).reshape((5,5))\n",
    "columns = ['A','B','C','D','E']\n",
    "df = pd.DataFrame(data, columns=columns)\n",
    "df"
   ]
  },
  {
   "cell_type": "markdown",
   "metadata": {},
   "source": [
    "## 1. 데이터프레임 (Dataframe)"
   ]
  },
  {
   "cell_type": "markdown",
   "metadata": {},
   "source": [
    "### 1-1. 값 접근"
   ]
  },
  {
   "cell_type": "code",
   "execution_count": null,
   "metadata": {},
   "outputs": [],
   "source": [
    "# 열기준으로 선택\n",
    "df['A']"
   ]
  },
  {
   "cell_type": "code",
   "execution_count": null,
   "metadata": {},
   "outputs": [],
   "source": [
    "# 여러 열 기준으로 선택\n",
    "df[['A','D','E']]"
   ]
  },
  {
   "cell_type": "code",
   "execution_count": null,
   "metadata": {},
   "outputs": [],
   "source": [
    "# 행 기준으로 선택\n",
    "df.loc[3]\n"
   ]
  },
  {
   "cell_type": "code",
   "execution_count": null,
   "metadata": {},
   "outputs": [],
   "source": [
    "# 특정 행-열에 있는 원소 선택\n",
    "df.loc[3,'A']"
   ]
  },
  {
   "cell_type": "code",
   "execution_count": null,
   "metadata": {},
   "outputs": [],
   "source": [
    "# 특정 행-열들 에 있는 원소 선택\n",
    "df.loc[[3,4],['A','B']]"
   ]
  },
  {
   "cell_type": "code",
   "execution_count": null,
   "metadata": {},
   "outputs": [],
   "source": [
    "# 상위 n개만 출력\n",
    "df.head(n=3)"
   ]
  },
  {
   "cell_type": "code",
   "execution_count": null,
   "metadata": {},
   "outputs": [],
   "source": [
    "# 하위 n개만 출력\n",
    "df.tail(n=3)"
   ]
  },
  {
   "cell_type": "markdown",
   "metadata": {},
   "source": [
    "### 1-2. 조건부 선택"
   ]
  },
  {
   "cell_type": "code",
   "execution_count": null,
   "metadata": {},
   "outputs": [],
   "source": [
    "## 50보다 큰 원소들을 갖고 있는 셀은?\n",
    "df>50\n"
   ]
  },
  {
   "cell_type": "code",
   "execution_count": null,
   "metadata": {},
   "outputs": [],
   "source": [
    "## 50보다 큰 원소들은?\n",
    "df[df>50]"
   ]
  },
  {
   "cell_type": "code",
   "execution_count": null,
   "metadata": {},
   "outputs": [],
   "source": [
    "## 특정열이 50보다 큰 행은?\n",
    "df[df['B']>50]"
   ]
  },
  {
   "cell_type": "code",
   "execution_count": null,
   "metadata": {},
   "outputs": [],
   "source": [
    "## 특정열들이 동시에 조건을 만족시키는 행은?\n",
    "df[(df['B']>50)&(df['C']<70)]"
   ]
  },
  {
   "cell_type": "markdown",
   "metadata": {},
   "source": [
    "### 1-3. 데이터 생성 삭제 갱신"
   ]
  },
  {
   "cell_type": "code",
   "execution_count": null,
   "metadata": {},
   "outputs": [],
   "source": [
    "# 새로운 열 추가\n",
    "df['X'] = [0,0,0,0,0]"
   ]
  },
  {
   "cell_type": "code",
   "execution_count": null,
   "metadata": {},
   "outputs": [],
   "source": [
    "df"
   ]
  },
  {
   "cell_type": "code",
   "execution_count": null,
   "metadata": {},
   "outputs": [],
   "source": [
    "# 특정 열 삭제\n",
    "df.drop('X', axis=1)"
   ]
  },
  {
   "cell_type": "code",
   "execution_count": null,
   "metadata": {},
   "outputs": [],
   "source": [
    "df"
   ]
  },
  {
   "cell_type": "code",
   "execution_count": null,
   "metadata": {},
   "outputs": [],
   "source": [
    "## 원본 데이터에서 삭제를 원할 시 inplace 속성을 True 적용\n",
    "df.drop('X', axis=1, inplace=True)"
   ]
  },
  {
   "cell_type": "code",
   "execution_count": null,
   "metadata": {},
   "outputs": [],
   "source": [
    "df"
   ]
  },
  {
   "cell_type": "code",
   "execution_count": null,
   "metadata": {},
   "outputs": [],
   "source": [
    "df['Index'] = [\"NOK\",\"USD\",\"EUR\",\"GBP\",\"KRW\"]"
   ]
  },
  {
   "cell_type": "code",
   "execution_count": null,
   "metadata": {},
   "outputs": [],
   "source": [
    "df"
   ]
  },
  {
   "cell_type": "code",
   "execution_count": null,
   "metadata": {},
   "outputs": [],
   "source": [
    "## 인덱스 변경 (0,1,2,3,4) 대신 화폐단위로\n",
    "df.set_index('Index',inplace=True)"
   ]
  },
  {
   "cell_type": "code",
   "execution_count": null,
   "metadata": {},
   "outputs": [],
   "source": [
    "df"
   ]
  },
  {
   "cell_type": "code",
   "execution_count": null,
   "metadata": {},
   "outputs": [],
   "source": [
    "df.loc['KRW']"
   ]
  },
  {
   "cell_type": "code",
   "execution_count": null,
   "metadata": {},
   "outputs": [],
   "source": [
    "# Numpy와 비슷하게 기본적인 수학 연산을 테이블 전체에 적용가능\n",
    "df/10"
   ]
  },
  {
   "cell_type": "code",
   "execution_count": null,
   "metadata": {},
   "outputs": [],
   "source": [
    "# 다른 자료구조와 마찬가지로 데이터에 접근하여 변경 가능\n",
    "df.loc['KRW']['A'] = 1000"
   ]
  },
  {
   "cell_type": "code",
   "execution_count": null,
   "metadata": {},
   "outputs": [],
   "source": [
    "df"
   ]
  },
  {
   "cell_type": "markdown",
   "metadata": {},
   "source": [
    "## 2. 데이터 다루기"
   ]
  },
  {
   "cell_type": "markdown",
   "metadata": {},
   "source": [
    "### 2-1. 빈 데이터 다루기"
   ]
  },
  {
   "cell_type": "code",
   "execution_count": null,
   "metadata": {},
   "outputs": [],
   "source": [
    "sample_data ={\n",
    "    '나이':[23,np.nan,28],\n",
    "    '성별':['여성',np.nan, '남성'],\n",
    "    '키':[np.nan,np.nan,'175']\n",
    "}\n",
    "df = pd.DataFrame(sample_data)\n",
    "df"
   ]
  },
  {
   "cell_type": "code",
   "execution_count": null,
   "metadata": {},
   "outputs": [],
   "source": [
    "# 하나라도 Nan (값이 없는) 행 제거하기\n",
    "df.dropna()"
   ]
  },
  {
   "cell_type": "code",
   "execution_count": null,
   "metadata": {},
   "outputs": [],
   "source": [
    "# 하나라도 Nan (값이 없는) 열 제거하기\n",
    "df.dropna(axis=1)"
   ]
  },
  {
   "cell_type": "code",
   "execution_count": null,
   "metadata": {},
   "outputs": [],
   "source": [
    "# 두개 이상의 Nan값인 행 제거하기\n",
    "df.dropna(thresh=2)"
   ]
  },
  {
   "cell_type": "code",
   "execution_count": null,
   "metadata": {},
   "outputs": [],
   "source": [
    "# 성별의 Nan값 한번에 채우기\n",
    "df['성별'].fillna('기타',inplace=True)\n",
    "df"
   ]
  },
  {
   "cell_type": "code",
   "execution_count": null,
   "metadata": {},
   "outputs": [],
   "source": [
    "# 나이의 평균으로 빈 값 채우기\n",
    "df['나이'].fillna(df['나이'].dropna().mean(),inplace=True)\n",
    "df"
   ]
  },
  {
   "cell_type": "code",
   "execution_count": null,
   "metadata": {},
   "outputs": [],
   "source": [
    "# 키의 평균으로 빈 값 채우기\n",
    "df['키'].fillna(df['키'].dropna().mean(),inplace=True)\n",
    "df"
   ]
  },
  {
   "cell_type": "markdown",
   "metadata": {},
   "source": [
    "### 2-2. 고급 선택: GroupBy"
   ]
  },
  {
   "cell_type": "code",
   "execution_count": null,
   "metadata": {},
   "outputs": [],
   "source": [
    "## Dictionary를 활용해서 Dataframe 생성가능\n",
    "## 키가 열이 됨\n",
    "sample_data ={\n",
    "    '나이':[23,25,28,27,23,24],\n",
    "    '전공':['컴퓨터','컴퓨터', '경영','경영','경제','기계'],\n",
    "    '성별':['남','여', '여','남','여','남'],\n",
    "    '학년':[1,1,2,1,3,2],\n",
    "    '키':[170,165,175,178,170,176],\n",
    "    '자퇴':[True,True,False,False,False,True]\n",
    "}\n",
    "df = pd.DataFrame(sample_data)\n",
    "df"
   ]
  },
  {
   "cell_type": "code",
   "execution_count": null,
   "metadata": {},
   "outputs": [],
   "source": [
    "## 자퇴여부에 따른 학년의 중앙값\n",
    "df[['학년','자퇴']].groupby('자퇴').median()"
   ]
  },
  {
   "cell_type": "code",
   "execution_count": null,
   "metadata": {},
   "outputs": [],
   "source": [
    "## 학년별 자퇴 비율\n",
    "df[['학년','자퇴']].groupby('학년').mean()\n"
   ]
  },
  {
   "cell_type": "code",
   "execution_count": null,
   "metadata": {},
   "outputs": [],
   "source": [
    "## 쓸모없는 통계의 예\n",
    "df[['키','자퇴']].groupby('자퇴').mean()"
   ]
  },
  {
   "cell_type": "code",
   "execution_count": null,
   "metadata": {},
   "outputs": [],
   "source": [
    "## 각 항목의 최대값도 구할 수 있음: 자퇴여부에 따른 그룹에서 최대값 (글자는 가나다순)\n",
    "df.groupby('자퇴').max()"
   ]
  },
  {
   "cell_type": "code",
   "execution_count": null,
   "metadata": {},
   "outputs": [],
   "source": [
    "df.groupby('자퇴').min()"
   ]
  },
  {
   "cell_type": "code",
   "execution_count": null,
   "metadata": {},
   "outputs": [],
   "source": [
    "## 여러 정보를 한번에 보고 싶다면?\n",
    "df.groupby('자퇴').describe().transpose()"
   ]
  },
  {
   "cell_type": "markdown",
   "metadata": {},
   "source": [
    "### 2-3. 데이터 프레임간의 조작"
   ]
  },
  {
   "cell_type": "code",
   "execution_count": null,
   "metadata": {},
   "outputs": [],
   "source": [
    "dataset_A = {\n",
    "    'A':['A1','A2','A3','A4'],\n",
    "    'B':['B1','B2','B3','B4'],\n",
    "    'C':['C1','C2','C3','C4'],    \n",
    "}\n",
    "dataset_B ={\n",
    "    'A':['A5','A6','A7','A8'],\n",
    "    'B':['B5','B6','B7','B8'],\n",
    "    'C':['C5','C6','C7','C8'],\n",
    "}\n",
    "df1 = pd.DataFrame(dataset_A, index=[0,1,2,3])\n",
    "df2 = pd.DataFrame(dataset_B, index=[4,5,6,7])"
   ]
  },
  {
   "cell_type": "code",
   "execution_count": null,
   "metadata": {},
   "outputs": [],
   "source": [
    "df1"
   ]
  },
  {
   "cell_type": "code",
   "execution_count": null,
   "metadata": {},
   "outputs": [],
   "source": [
    "df2"
   ]
  },
  {
   "cell_type": "code",
   "execution_count": null,
   "metadata": {},
   "outputs": [],
   "source": [
    "# 열 이름 기반으로 합치기\n",
    "pd.concat([df1,df2])"
   ]
  },
  {
   "cell_type": "code",
   "execution_count": null,
   "metadata": {},
   "outputs": [],
   "source": [
    "# 행 이름 기반으로 합치기\n",
    "pd.concat([df1,df2],axis=1)"
   ]
  },
  {
   "cell_type": "code",
   "execution_count": null,
   "metadata": {},
   "outputs": [],
   "source": [
    "dataset_B ={\n",
    "    'D':['D5','D6','D7','D8'],\n",
    "    'E':['E5','E6','E7','E8'],\n",
    "    'F':['F5','F6','F7','F8'],\n",
    "}\n",
    "df2 = pd.DataFrame(dataset_B, index=[0,1,2,3])"
   ]
  },
  {
   "cell_type": "code",
   "execution_count": null,
   "metadata": {},
   "outputs": [],
   "source": [
    "# 행 이름 기반으로 합치기\n",
    "pd.concat([df1,df2],axis=1)"
   ]
  },
  {
   "cell_type": "code",
   "execution_count": null,
   "metadata": {},
   "outputs": [],
   "source": [
    "dataset_A = {\n",
    "    '학번':['201701','201702'],\n",
    "    '평점':['A','B'],\n",
    "}\n",
    "dataset_B ={\n",
    "    '학번':['201701','201702','201801','201802'],\n",
    "    '나이':[20,19,21,20],\n",
    "    '성별':['F','M','F','M'],\n",
    "}\n",
    "df1 = pd.DataFrame(dataset_A)\n",
    "df2 = pd.DataFrame(dataset_B)"
   ]
  },
  {
   "cell_type": "code",
   "execution_count": null,
   "metadata": {},
   "outputs": [],
   "source": [
    "df1"
   ]
  },
  {
   "cell_type": "code",
   "execution_count": null,
   "metadata": {},
   "outputs": [],
   "source": [
    "df2"
   ]
  },
  {
   "cell_type": "code",
   "execution_count": null,
   "metadata": {},
   "outputs": [],
   "source": [
    "# 교집합\n",
    "pd.merge(df1,df2,how='inner',on='학번')"
   ]
  },
  {
   "cell_type": "code",
   "execution_count": null,
   "metadata": {},
   "outputs": [],
   "source": [
    "# 합집합\n",
    "pd.merge(df1,df2,how='outer',on='학번')"
   ]
  },
  {
   "cell_type": "code",
   "execution_count": null,
   "metadata": {},
   "outputs": [],
   "source": [
    "# 왼쪽 데이터 프레임 기준 (df1)\n",
    "pd.merge(df1,df2,how='left',on='학번')"
   ]
  },
  {
   "cell_type": "code",
   "execution_count": null,
   "metadata": {},
   "outputs": [],
   "source": [
    "# 오른쪽 데이터 프레임 기준 (df1)\n",
    "pd.merge(df1,df2,how='right',on='학번')"
   ]
  },
  {
   "cell_type": "code",
   "execution_count": null,
   "metadata": {},
   "outputs": [],
   "source": [
    "# Join을 이용한 방식 (왼쪽 데이터 프레임 기준)\n",
    "df1.join(df2,lsuffix='_df1', rsuffix='_df2')"
   ]
  },
  {
   "cell_type": "code",
   "execution_count": null,
   "metadata": {},
   "outputs": [],
   "source": [
    "# Join을 이용한 방식 (오른쪽 데이터 프레임 기준)\n",
    "df2.join(df1,lsuffix='_df2', rsuffix='_df1')"
   ]
  },
  {
   "cell_type": "markdown",
   "metadata": {},
   "source": [
    "### 2-4. 그외 유용한 기능"
   ]
  },
  {
   "cell_type": "code",
   "execution_count": null,
   "metadata": {},
   "outputs": [],
   "source": [
    "df = pd.DataFrame([\n",
    "['Jeff Bezos',112.4,55, 'United States',['Amazon']],\n",
    "['Bill Gates',103.3,64, 'United States',['Microsoft']],\n",
    "['Bernard Arnault',95.4,70, 'France',['LVMH']],\n",
    "['Warren Buffett',79.5,88, 'United States',['Berkshire Hathaway']],\n",
    "['Amancio Ortega',67.7 ,83, 'Spain', ['Zara']],\n",
    "['Mark Zuckerberg',67.6,35, 'United States',['Facebook']],\n",
    "['Larry Ellison',64.8,75, 'United States',['Oracle Corporation']],\n",
    "['Michael Bloomberg',56.1,76, 'United States',['Bloomberg']],\n",
    "['Larry Page',54.8,46,'United States',['Google']],\n",
    "['Carlos Slim',54.3,79, 'Mexico',['América Móvil', 'Grupo Carso']],\n",
    "], columns=['Name',\"Net Worth\",\"Age\",\"Nationality\",\"Companies\"])"
   ]
  },
  {
   "cell_type": "code",
   "execution_count": null,
   "metadata": {},
   "outputs": [],
   "source": [
    "# 어떤 국적들이 있는지 확인\n",
    "df['Nationality'].unique()"
   ]
  },
  {
   "cell_type": "code",
   "execution_count": null,
   "metadata": {},
   "outputs": [],
   "source": [
    "# 나라별 몇 명이 각각 있나?\n",
    "df['Nationality'].value_counts()"
   ]
  },
  {
   "cell_type": "code",
   "execution_count": null,
   "metadata": {},
   "outputs": [],
   "source": [
    "# 기존값과 함수를 이용하여 새로운 값 생성가능\n",
    "def billion(x):\n",
    "    return x*10**9\n",
    "\n",
    "df['Net Worth'].apply(billion)"
   ]
  },
  {
   "cell_type": "code",
   "execution_count": null,
   "metadata": {},
   "outputs": [],
   "source": [
    "# 회사 수\n",
    "df['Companies'].apply(len)"
   ]
  },
  {
   "cell_type": "code",
   "execution_count": null,
   "metadata": {},
   "outputs": [],
   "source": [
    "## 평균 나이\n",
    "df['Age'].mean()"
   ]
  },
  {
   "cell_type": "code",
   "execution_count": null,
   "metadata": {},
   "outputs": [],
   "source": [
    "## 재산 합\n",
    "df['Net Worth'].sum()"
   ]
  },
  {
   "cell_type": "code",
   "execution_count": null,
   "metadata": {},
   "outputs": [],
   "source": [
    "## 나이 기준 정렬\n",
    "df.sort_values(by='Age')"
   ]
  },
  {
   "cell_type": "markdown",
   "metadata": {},
   "source": [
    "## 3. 데이터 읽기/쓰기"
   ]
  },
  {
   "cell_type": "code",
   "execution_count": null,
   "metadata": {},
   "outputs": [],
   "source": [
    "# 엑셀 파일 읽기\n",
    "df = pd.read_excel('data/sample.xlsx',sheet_name='Sheet1', index_col=[0])\n",
    "df"
   ]
  },
  {
   "cell_type": "code",
   "execution_count": null,
   "metadata": {},
   "outputs": [],
   "source": [
    "# JSON 타입으로\n",
    "# 파일로 저장을 원할시: df.to_json(\"df.json\")\n",
    "df.to_json()"
   ]
  },
  {
   "cell_type": "code",
   "execution_count": null,
   "metadata": {},
   "outputs": [],
   "source": [
    "df.to_html()"
   ]
  },
  {
   "cell_type": "code",
   "execution_count": null,
   "metadata": {},
   "outputs": [],
   "source": [
    "df.to_latex()"
   ]
  },
  {
   "cell_type": "code",
   "execution_count": null,
   "metadata": {},
   "outputs": [],
   "source": [
    "df = pd.read_html(\"https://ko.wikipedia.org/wiki/%EC%98%81%ED%99%94_%EB%A7%A4%EC%B6%9C_%EC%88%9C%EC%9C%84_%EB%AA%A9%EB%A1%9D\")"
   ]
  },
  {
   "cell_type": "code",
   "execution_count": null,
   "metadata": {},
   "outputs": [],
   "source": [
    "df[0]"
   ]
  },
  {
   "cell_type": "code",
   "execution_count": null,
   "metadata": {},
   "outputs": [],
   "source": []
  }
 ],
 "metadata": {
  "kernelspec": {
   "display_name": "Python 3",
   "language": "python",
   "name": "python3"
  },
  "language_info": {
   "codemirror_mode": {
    "name": "ipython",
    "version": 3
   },
   "file_extension": ".py",
   "mimetype": "text/x-python",
   "name": "python",
   "nbconvert_exporter": "python",
   "pygments_lexer": "ipython3",
   "version": "3.6.8"
  }
 },
 "nbformat": 4,
 "nbformat_minor": 2
}
