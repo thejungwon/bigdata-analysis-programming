{
 "cells": [
  {
   "cell_type": "markdown",
   "metadata": {},
   "source": [
    "# BIG DATA ANALYSIS: Linear Regression\n",
    "---"
   ]
  },
  {
   "cell_type": "markdown",
   "metadata": {},
   "source": [
    "## 1. 가상의 데이터 생성"
   ]
  },
  {
   "cell_type": "code",
   "execution_count": 1,
   "metadata": {
    "scrolled": true
   },
   "outputs": [],
   "source": [
    "import numpy as np\n",
    "X = np.array([[1], [2], [3], [4]])\n",
    "#y= 3x+3\n",
    "y = np.dot(X, np.array([3])) + 3"
   ]
  },
  {
   "cell_type": "code",
   "execution_count": 2,
   "metadata": {
    "scrolled": true
   },
   "outputs": [
    {
     "data": {
      "image/png": "[encoded data removed]",
      "text/plain": [
       "<Figure size 432x288 with 1 Axes>"
      ]
     },
     "metadata": {
      "needs_background": "light"
     },
     "output_type": "display_data"
    }
   ],
   "source": [
    "#데이터 확인하기\n",
    "import matplotlib.pyplot as plt\n",
    "plt.scatter(X[:,0], y[:])\n",
    "plt.show()\n"
   ]
  },
  {
   "cell_type": "markdown",
   "metadata": {},
   "source": [
    "## 2. Linear Regression 훈련"
   ]
  },
  {
   "cell_type": "code",
   "execution_count": 3,
   "metadata": {},
   "outputs": [
    {
     "name": "stdout",
     "output_type": "stream",
     "text": [
      "1.0\n",
      "[3.]\n",
      "2.9999999999999982\n",
      "[18.]\n"
     ]
    }
   ],
   "source": [
    "\n",
    "from sklearn.linear_model import LinearRegression\n",
    "reg = LinearRegression().fit(X, y)\n",
    "#1에 가까울 수록 양의 상관관계, 0에 가까우면 x와 y는 큰 상관관계가 없음\n",
    "print(reg.score(X, y))\n",
    "# 추정된 가중치(weight) 벡터\n",
    "print(reg.coef_)\n",
    "# 추정된 상수항\n",
    "print(reg.intercept_)\n",
    "# 5는 값을 넣었을때의 예상치\n",
    "print(reg.predict(np.array([[5]])))"
   ]
  },
  {
   "cell_type": "markdown",
   "metadata": {},
   "source": [
    "## 3. 큰 데이터로 실험"
   ]
  },
  {
   "cell_type": "code",
   "execution_count": 4,
   "metadata": {},
   "outputs": [],
   "source": [
    "from sklearn.datasets import make_regression\n",
    "\n",
    "X, y, coef = make_regression(n_samples=100, n_features=1,\n",
    "                              bias=100, noise=10, coef=True, random_state=1)"
   ]
  },
  {
   "cell_type": "code",
   "execution_count": 5,
   "metadata": {},
   "outputs": [
    {
     "data": {
      "text/plain": [
       "array([[-0.61175641],\n",
       "       [-0.24937038],\n",
       "       [ 0.48851815],\n",
       "       [ 0.76201118],\n",
       "       [ 1.51981682],\n",
       "       [ 0.37756379],\n",
       "       [ 0.51292982],\n",
       "       [-0.67124613],\n",
       "       [-1.39649634],\n",
       "       [ 0.31563495],\n",
       "       [-0.63699565],\n",
       "       [-0.39675353],\n",
       "       [-1.10061918],\n",
       "       [ 0.90085595],\n",
       "       [-1.09989127],\n",
       "       [ 0.82797464],\n",
       "       [-0.07557171],\n",
       "       [-0.35224985],\n",
       "       [-0.67066229],\n",
       "       [-1.07296862],\n",
       "       [-0.30620401],\n",
       "       [ 2.18557541],\n",
       "       [ 0.86540763],\n",
       "       [ 0.19829972],\n",
       "       [-0.38405435],\n",
       "       [-0.68372786],\n",
       "       [ 0.05080775],\n",
       "       [ 0.58281521],\n",
       "       [ 1.25286816],\n",
       "       [-0.75439794],\n",
       "       [-0.34934272],\n",
       "       [-0.88762896],\n",
       "       [ 0.18656139],\n",
       "       [ 0.87616892],\n",
       "       [ 0.83898341],\n",
       "       [-0.50446586],\n",
       "       [-0.34385368],\n",
       "       [ 1.6924546 ],\n",
       "       [-2.3015387 ],\n",
       "       [ 0.93110208],\n",
       "       [ 2.10025514],\n",
       "       [ 1.46210794],\n",
       "       [-0.84520564],\n",
       "       [-0.87785842],\n",
       "       [-0.3224172 ],\n",
       "       [ 0.88514116],\n",
       "       [ 0.16003707],\n",
       "       [ 1.13162939],\n",
       "       [-0.37528495],\n",
       "       [ 0.50249434],\n",
       "       [-0.20889423],\n",
       "       [ 0.12015895],\n",
       "       [ 0.58662319],\n",
       "       [ 0.3190391 ],\n",
       "       [-0.69166075],\n",
       "       [ 0.69803203],\n",
       "       [ 1.19891788],\n",
       "       [-0.20075807],\n",
       "       [ 0.53035547],\n",
       "       [ 0.74204416],\n",
       "       [ 0.41005165],\n",
       "       [ 0.11900865],\n",
       "       [-0.7612069 ],\n",
       "       [ 0.42349435],\n",
       "       [ 0.30017032],\n",
       "       [-1.1425182 ],\n",
       "       [ 0.18515642],\n",
       "       [-0.93576943],\n",
       "       [-0.62000084],\n",
       "       [-1.11731035],\n",
       "       [-1.44411381],\n",
       "       [-0.22232814],\n",
       "       [ 1.62434536],\n",
       "       [ 0.61720311],\n",
       "       [-0.6871727 ],\n",
       "       [ 0.07734007],\n",
       "       [-0.0126646 ],\n",
       "       [-0.63873041],\n",
       "       [ 1.13376944],\n",
       "       [ 1.74481176],\n",
       "       [ 0.90159072],\n",
       "       [-2.06014071],\n",
       "       [ 0.2344157 ],\n",
       "       [-0.17242821],\n",
       "       [ 0.12182127],\n",
       "       [ 1.14472371],\n",
       "       [-0.12289023],\n",
       "       [-0.74715829],\n",
       "       [ 0.28558733],\n",
       "       [-2.02220122],\n",
       "       [ 0.23009474],\n",
       "       [-0.26788808],\n",
       "       [-0.52817175],\n",
       "       [ 1.12948391],\n",
       "       [ 0.19091548],\n",
       "       [-0.29809284],\n",
       "       [ 1.65980218],\n",
       "       [ 0.04359686],\n",
       "       [ 0.04221375],\n",
       "       [-0.19183555]])"
      ]
     },
     "execution_count": 5,
     "metadata": {},
     "output_type": "execute_result"
    }
   ],
   "source": [
    "X"
   ]
  },
  {
   "cell_type": "code",
   "execution_count": 6,
   "metadata": {},
   "outputs": [
    {
     "name": "stdout",
     "output_type": "stream",
     "text": [
      "[ 47.5431146   84.60560134 131.09298076 181.29922354 233.5013812\n",
      " 131.88110117 137.20705164  59.96820329  -6.17554223 124.639066\n",
      "  51.49953198  79.81952981   7.92651763 154.55792402  11.96730036\n",
      " 167.24781801  90.10697887  58.06415472  40.26512924  29.47521548\n",
      "  73.22549093 277.61698746 167.46572572 121.33659327  75.22840147\n",
      "  51.65846425 102.47827403 145.80048542 208.55222544  37.24617548\n",
      "  72.93654777  33.73848126 116.88850749 172.89287434 192.45898132\n",
      "  68.29301456  57.94240506 258.71803893 -89.16666685 171.82648428\n",
      " 267.51735412 211.50394103  30.67456893  35.1891274   66.20091286\n",
      " 172.34371505 126.9415416  185.89817092  70.45828119 137.39534229\n",
      "  70.71258074 112.02641447 163.3414933  126.43950925  52.34417313\n",
      " 161.57186756 196.14806434  93.67887635 121.45691711 158.19302951\n",
      " 142.33541142 103.75391925  55.95332581 136.96121561 130.16415401\n",
      "  16.09240932 117.32833857  26.43626485  65.02791617  16.55643582\n",
      " -17.44672502  76.1155859  241.09227065 151.3687163   42.4931287\n",
      " 118.48181592  84.81138362  51.8307846  195.78274149 245.70060609\n",
      " 197.38413861 -74.06609658 111.19686853  81.55154375 127.50826761\n",
      " 195.49878769  90.40179133  43.60929246 130.82136659 -81.59266703\n",
      " 104.52545955  87.45312552  61.02936689 183.28349563 116.48951451\n",
      "  75.99037697 233.02472573 112.06315399 127.25915157  79.10540659]\n"
     ]
    }
   ],
   "source": [
    "print(y)"
   ]
  },
  {
   "cell_type": "code",
   "execution_count": 7,
   "metadata": {},
   "outputs": [
    {
     "data": {
      "image/png": "[encoded data removed]",
      "text/plain": [
       "<Figure size 432x288 with 1 Axes>"
      ]
     },
     "metadata": {
      "needs_background": "light"
     },
     "output_type": "display_data"
    }
   ],
   "source": [
    "import matplotlib.pyplot as plt\n",
    "plt.scatter(X[:,0], y[:])\n",
    "plt.show()"
   ]
  },
  {
   "cell_type": "code",
   "execution_count": 8,
   "metadata": {},
   "outputs": [],
   "source": [
    "reg = LinearRegression().fit(X, y)"
   ]
  },
  {
   "cell_type": "code",
   "execution_count": 9,
   "metadata": {
    "scrolled": true
   },
   "outputs": [
    {
     "name": "stdout",
     "output_type": "stream",
     "text": [
      "[81.59750943]\n",
      "102.02701438881084\n"
     ]
    }
   ],
   "source": [
    "# 추정된 가중치(weight) 벡터\n",
    "print(reg.coef_)\n",
    "# 추정된 상수항\n",
    "print(reg.intercept_)\n"
   ]
  },
  {
   "cell_type": "code",
   "execution_count": null,
   "metadata": {},
   "outputs": [],
   "source": []
  },
  {
   "cell_type": "code",
   "execution_count": 10,
   "metadata": {},
   "outputs": [
    {
     "data": {
      "image/png": "[encoded data removed]",
      "text/plain": [
       "<Figure size 432x288 with 1 Axes>"
      ]
     },
     "metadata": {
      "needs_background": "light"
     },
     "output_type": "display_data"
    }
   ],
   "source": [
    "x = np.linspace(-3,3)\n",
    "fn = reg.coef_*x + reg.intercept_\n",
    "plt.scatter(X[:,0], y[:])\n",
    "plt.plot(x, fn,c=\"red\")\n",
    "plt.show()"
   ]
  },
  {
   "cell_type": "code",
   "execution_count": null,
   "metadata": {},
   "outputs": [],
   "source": []
  }
 ],
 "metadata": {
  "kernelspec": {
   "display_name": "Python 3",
   "language": "python",
   "name": "python3"
  },
  "language_info": {
   "codemirror_mode": {
    "name": "ipython",
    "version": 3
   },
   "file_extension": ".py",
   "mimetype": "text/x-python",
   "name": "python",
   "nbconvert_exporter": "python",
   "pygments_lexer": "ipython3",
   "version": "3.6.8"
  }
 },
 "nbformat": 4,
 "nbformat_minor": 4
}
