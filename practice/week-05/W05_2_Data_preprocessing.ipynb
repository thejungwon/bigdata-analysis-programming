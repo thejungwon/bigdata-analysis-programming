{
 "cells": [
  {
   "cell_type": "markdown",
   "metadata": {},
   "source": [
    "# BIG DATA ANALYSIS: Data 전처리\n",
    "데이터셋 설명: [타이타닉](https://www.kaggle.com/c/titanic/overview)\n",
    "---"
   ]
  },
  {
   "cell_type": "markdown",
   "metadata": {},
   "source": [
    "## 1. 데이터셋 로딩"
   ]
  },
  {
   "cell_type": "code",
   "execution_count": null,
   "metadata": {},
   "outputs": [],
   "source": [
    "import pandas as pd"
   ]
  },
  {
   "cell_type": "code",
   "execution_count": null,
   "metadata": {},
   "outputs": [],
   "source": [
    "df = pd.read_csv(\"data/train.csv\")"
   ]
  },
  {
   "cell_type": "code",
   "execution_count": null,
   "metadata": {},
   "outputs": [],
   "source": [
    "df"
   ]
  },
  {
   "cell_type": "markdown",
   "metadata": {},
   "source": [
    "## 2. 무의미한 컬럼제거 (Feature Selection)"
   ]
  },
  {
   "cell_type": "code",
   "execution_count": null,
   "metadata": {
    "scrolled": true
   },
   "outputs": [],
   "source": [
    "df = df.drop(['아이디', '티켓번호'], axis=1)\n",
    "df"
   ]
  },
  {
   "cell_type": "markdown",
   "metadata": {},
   "source": [
    "## 3. 결측값 처리"
   ]
  },
  {
   "cell_type": "code",
   "execution_count": null,
   "metadata": {},
   "outputs": [],
   "source": [
    "print(\"생존: \",df['생존'].isnull().sum())\n",
    "print(\"객실등급: \", df['객실등급'].isnull().sum())\n",
    "print(\"이름: \", df['이름'].isnull().sum())\n",
    "print(\"나이: \",df['나이'].isnull().sum())\n",
    "print(\"형제자매: \",df['형제자매'].isnull().sum())\n",
    "print(\"부모: \",df['부모'].isnull().sum())\n",
    "print(\"요금: \",df['요금'].isnull().sum())\n",
    "print(\"객실번호: \",df['객실번호'].isnull().sum())\n",
    "print(\"승선항: \",df['승선항'].isnull().sum())"
   ]
  },
  {
   "cell_type": "code",
   "execution_count": null,
   "metadata": {},
   "outputs": [],
   "source": [
    "#객실번호는 결측값이 많으므로, 컬럼 자체를 버리기\n",
    "df = df.drop(['객실번호'], axis=1)"
   ]
  },
  {
   "cell_type": "code",
   "execution_count": null,
   "metadata": {},
   "outputs": [],
   "source": [
    "#승선한은 결측값이 2개밖에 되지 않으므로, 두 객체를 버리기\n",
    "df = df.dropna(subset = [\"승선항\"])\n",
    "df"
   ]
  },
  {
   "cell_type": "code",
   "execution_count": null,
   "metadata": {},
   "outputs": [],
   "source": [
    "print(\"생존: \",df['생존'].isnull().sum())\n",
    "print(\"객실등급: \", df['객실등급'].isnull().sum())\n",
    "print(\"이름: \", df['이름'].isnull().sum())\n",
    "print(\"나이: \",df['나이'].isnull().sum())\n",
    "print(\"형제자매: \",df['형제자매'].isnull().sum())\n",
    "print(\"부모: \",df['부모'].isnull().sum())\n",
    "print(\"요금: \",df['요금'].isnull().sum())\n",
    "print(\"승선항: \",df['승선항'].isnull().sum())"
   ]
  },
  {
   "cell_type": "code",
   "execution_count": null,
   "metadata": {},
   "outputs": [],
   "source": [
    "#Option1: 전체 나이의 평균으로 대입\n",
    "avg = df['나이'].mean()\n",
    "print(avg)\n",
    "df['나이'].fillna(avg)"
   ]
  },
  {
   "cell_type": "code",
   "execution_count": null,
   "metadata": {
    "scrolled": false
   },
   "outputs": [],
   "source": [
    "# option2. 남녀 각각의 나이\n",
    "male_avg = df[df['성별']==\"male\"]['나이'].mean() \n",
    "female_avg = df[df['성별']==\"female\"]['나이'].mean() \n",
    "print(male_avg, female_avg)\n",
    "mask = df['성별']==\"female\"\n",
    "df.loc[mask,'나이'] = df.loc[mask,'나이'].fillna(female_avg)\n",
    "mask = df['성별']==\"male\"\n",
    "df.loc[mask,'나이'] = df.loc[mask,'나이'].fillna(male_avg)\n"
   ]
  },
  {
   "cell_type": "code",
   "execution_count": null,
   "metadata": {},
   "outputs": [],
   "source": []
  },
  {
   "cell_type": "code",
   "execution_count": null,
   "metadata": {},
   "outputs": [],
   "source": [
    "df"
   ]
  },
  {
   "cell_type": "code",
   "execution_count": null,
   "metadata": {},
   "outputs": [],
   "source": [
    "df"
   ]
  },
  {
   "cell_type": "code",
   "execution_count": null,
   "metadata": {},
   "outputs": [],
   "source": [
    "print(\"생존: \",df['생존'].isnull().sum())\n",
    "print(\"객실등급: \", df['객실등급'].isnull().sum())\n",
    "print(\"이름: \", df['이름'].isnull().sum())\n",
    "print(\"나이: \",df['나이'].isnull().sum())\n",
    "print(\"형제자매: \",df['형제자매'].isnull().sum())\n",
    "print(\"부모: \",df['부모'].isnull().sum())\n",
    "print(\"요금: \",df['요금'].isnull().sum())\n",
    "print(\"승선항: \",df['승선항'].isnull().sum())"
   ]
  },
  {
   "cell_type": "code",
   "execution_count": null,
   "metadata": {},
   "outputs": [],
   "source": [
    "#option3 Mr, Miss, 부모, 형제자매 수 등으로 더 디테일한 나이를 예측 할 수 있지 않을까?"
   ]
  }
 ],
 "metadata": {
  "kernelspec": {
   "display_name": "Python 3",
   "language": "python",
   "name": "python3"
  },
  "language_info": {
   "codemirror_mode": {
    "name": "ipython",
    "version": 3
   },
   "file_extension": ".py",
   "mimetype": "text/x-python",
   "name": "python",
   "nbconvert_exporter": "python",
   "pygments_lexer": "ipython3",
   "version": "3.6.8"
  }
 },
 "nbformat": 4,
 "nbformat_minor": 2
}
