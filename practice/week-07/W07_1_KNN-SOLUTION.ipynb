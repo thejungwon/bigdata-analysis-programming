{
 "cells": [
  {
   "cell_type": "markdown",
   "metadata": {},
   "source": [
    "# BIG DATA ANALYSIS: K-Nearest Neighbor\n",
    "---"
   ]
  },
  {
   "cell_type": "code",
   "execution_count": 1,
   "metadata": {},
   "outputs": [],
   "source": [
    "import numpy as np\n",
    "import matplotlib.pyplot as plt"
   ]
  },
  {
   "cell_type": "markdown",
   "metadata": {},
   "source": [
    "### 1. 샘플 데이터 생성"
   ]
  },
  {
   "cell_type": "code",
   "execution_count": 2,
   "metadata": {},
   "outputs": [],
   "source": [
    "# 2차원 좌표에 0-5,0-5 사이의 랜덤 포인트 10개 Class0\n",
    "# 2차원 좌표에 6-20,6-20 사이의 랜덤 포인트 10개 Class1\n",
    "\n",
    "cls1 = np.vstack((np.random.randint(5, size=10), np.random.randint(5, size=10))).T\n",
    "cls2 = np.vstack((np.random.randint(6,20, size=10), np.random.randint(6,20, size=10))).T\n",
    "X = np.append(cls1,cls2,axis=0)\n",
    "y = np.array([0]*10+[1]*10)"
   ]
  },
  {
   "cell_type": "code",
   "execution_count": 3,
   "metadata": {},
   "outputs": [
    {
     "data": {
      "text/plain": [
       "array([[ 0,  2],\n",
       "       [ 2,  4],\n",
       "       [ 4,  3],\n",
       "       [ 1,  3],\n",
       "       [ 1,  1],\n",
       "       [ 0,  3],\n",
       "       [ 3,  3],\n",
       "       [ 2,  1],\n",
       "       [ 1,  1],\n",
       "       [ 3,  1],\n",
       "       [ 9, 13],\n",
       "       [16, 19],\n",
       "       [12,  6],\n",
       "       [ 8,  7],\n",
       "       [15, 10],\n",
       "       [19,  8],\n",
       "       [ 7, 15],\n",
       "       [10, 17],\n",
       "       [11, 11],\n",
       "       [17,  8]])"
      ]
     },
     "execution_count": 3,
     "metadata": {},
     "output_type": "execute_result"
    }
   ],
   "source": [
    "X"
   ]
  },
  {
   "cell_type": "markdown",
   "metadata": {},
   "source": [
    "### 2. 데이터셋 시각화"
   ]
  },
  {
   "cell_type": "code",
   "execution_count": 4,
   "metadata": {},
   "outputs": [
    {
     "data": {
      "image/png": "[encoded data removed]",
      "text/plain": [
       "<Figure size 432x288 with 1 Axes>"
      ]
     },
     "metadata": {
      "needs_background": "light"
     },
     "output_type": "display_data"
    }
   ],
   "source": [
    "\n",
    "plt.scatter(X[:,0], X[0:,1],  c=y)\n",
    "\n",
    "#우리가 확인하고자 하는 값 (빨간색으로 표시)\n",
    "new_point = np.array((5,5))\n",
    "plt.scatter(new_point[0],new_point[1],  c=\"red\")\n",
    "plt.show()\n"
   ]
  },
  {
   "cell_type": "markdown",
   "metadata": {},
   "source": [
    "## A. KNN 직접 구현"
   ]
  },
  {
   "cell_type": "markdown",
   "metadata": {},
   "source": [
    "### A-1. 거리측정"
   ]
  },
  {
   "cell_type": "code",
   "execution_count": 5,
   "metadata": {},
   "outputs": [],
   "source": [
    "# 점과 점사이의 거리를 확인하기 위한 함수\n",
    "def EuclideanDistance(a,b):\n",
    "    return np.sqrt(np.sum(np.power(a-b,2)))"
   ]
  },
  {
   "cell_type": "code",
   "execution_count": 6,
   "metadata": {},
   "outputs": [
    {
     "data": {
      "text/plain": [
       "{0: 12.806248474865697,\n",
       " 1: 10.0,\n",
       " 2: 9.219544457292887,\n",
       " 3: 11.40175425099138,\n",
       " 4: 12.727922061357855,\n",
       " 5: 12.206555615733702,\n",
       " 6: 9.899494936611665,\n",
       " 7: 12.041594578792296,\n",
       " 8: 12.727922061357855,\n",
       " 9: 11.40175425099138,\n",
       " 10: 3.1622776601683795,\n",
       " 11: 10.816653826391969,\n",
       " 12: 4.47213595499958,\n",
       " 13: 3.605551275463989,\n",
       " 14: 5.0,\n",
       " 15: 9.219544457292887,\n",
       " 16: 5.830951894845301,\n",
       " 17: 7.0,\n",
       " 18: 1.4142135623730951,\n",
       " 19: 7.280109889280518}"
      ]
     },
     "execution_count": 6,
     "metadata": {},
     "output_type": "execute_result"
    }
   ],
   "source": [
    "#Q new_point와 나머지 점들과의 거리를 계산한후, distances dictionary에 저장하시오\n",
    "distances = {}\n",
    "new_point = np.array((10,10))\n",
    "for index, point in enumerate(X) :\n",
    "    distances[index] = EuclideanDistance(new_point,point)\n",
    "distances"
   ]
  },
  {
   "cell_type": "code",
   "execution_count": 7,
   "metadata": {},
   "outputs": [
    {
     "data": {
      "text/plain": [
       "[(18, 1.4142135623730951),\n",
       " (10, 3.1622776601683795),\n",
       " (13, 3.605551275463989),\n",
       " (12, 4.47213595499958),\n",
       " (14, 5.0),\n",
       " (16, 5.830951894845301),\n",
       " (17, 7.0),\n",
       " (19, 7.280109889280518),\n",
       " (2, 9.219544457292887),\n",
       " (15, 9.219544457292887),\n",
       " (6, 9.899494936611665),\n",
       " (1, 10.0),\n",
       " (11, 10.816653826391969),\n",
       " (3, 11.40175425099138),\n",
       " (9, 11.40175425099138),\n",
       " (7, 12.041594578792296),\n",
       " (5, 12.206555615733702),\n",
       " (4, 12.727922061357855),\n",
       " (8, 12.727922061357855),\n",
       " (0, 12.806248474865697)]"
      ]
     },
     "execution_count": 7,
     "metadata": {},
     "output_type": "execute_result"
    }
   ],
   "source": [
    "#오름차순으로 정렬\n",
    "sorted_distance = sorted(distances.items(), key=lambda kv: kv[1])\n",
    "sorted_distance"
   ]
  },
  {
   "cell_type": "code",
   "execution_count": 8,
   "metadata": {},
   "outputs": [
    {
     "data": {
      "text/plain": [
       "[(18, 1.4142135623730951), (10, 3.1622776601683795), (13, 3.605551275463989)]"
      ]
     },
     "execution_count": 8,
     "metadata": {},
     "output_type": "execute_result"
    }
   ],
   "source": [
    "sorted_distance[:3]"
   ]
  },
  {
   "cell_type": "code",
   "execution_count": 9,
   "metadata": {},
   "outputs": [
    {
     "name": "stdout",
     "output_type": "stream",
     "text": [
      "The point is class 1\n"
     ]
    }
   ],
   "source": [
    "#Q 상위 K개의 클래스를 기반으로 다수(majority)를 확인한 후 new point의 클래스를 출력하시오!\n",
    "class0_cnt=0\n",
    "class1_cnt=0\n",
    "K=3\n",
    "for point in sorted_distance[:K]:\n",
    "    index = point[0]\n",
    "    if y[index] == 0:\n",
    "        class0_cnt+=1\n",
    "    else:\n",
    "        class1_cnt+=1\n",
    "\n",
    "if class0_cnt>class1_cnt:\n",
    "    print(\"The point is class 0\")\n",
    "else:\n",
    "    print(\"The point is class 1\")\n"
   ]
  },
  {
   "cell_type": "code",
   "execution_count": 10,
   "metadata": {},
   "outputs": [
    {
     "name": "stdout",
     "output_type": "stream",
     "text": [
      "The point is class 0\n",
      "The point is class 1\n",
      "The point is class 0\n"
     ]
    }
   ],
   "source": [
    "#Q 위의 과정을 하나의 함수로 만들기\n",
    "def KNN(new_point, X, y, K=3):\n",
    "    distances = {}\n",
    "    for index, point in enumerate(X) :\n",
    "        distances[index] = EuclideanDistance(new_point,point)\n",
    "\n",
    "    sorted_distance = sorted(distances.items(), key=lambda kv: kv[1])\n",
    "    \n",
    "    class0_cnt=0\n",
    "    class1_cnt=0\n",
    "    for point in sorted_distance[:K]:\n",
    "        index = point[0]\n",
    "        if y[index] == 0:\n",
    "            class0_cnt+=1\n",
    "        else:\n",
    "            class1_cnt+=1\n",
    "\n",
    "    if class0_cnt>class1_cnt:\n",
    "        print(\"The point is class 0\")\n",
    "    else:\n",
    "        print(\"The point is class 1\")\n",
    "\n",
    "\n",
    "KNN((6,6), X, y, K=3)\n",
    "KNN((10,20), X, y, K=3)\n",
    "KNN((5,5), X, y, K=5)"
   ]
  },
  {
   "cell_type": "markdown",
   "metadata": {},
   "source": [
    "## B. Sklearn 사용하기\n",
    "[링크](https://scikit-learn.org/stable/modules/generated/sklearn.neighbors.KNeighborsClassifier.html#sklearn.neighbors.KNeighborsClassifier)"
   ]
  },
  {
   "cell_type": "code",
   "execution_count": 11,
   "metadata": {},
   "outputs": [
    {
     "name": "stdout",
     "output_type": "stream",
     "text": [
      "Collecting sklearn\n",
      "  Using cached sklearn-0.0.tar.gz (1.1 kB)\n",
      "Requirement already satisfied: scikit-learn in /opt/anaconda3/lib/python3.7/site-packages (from sklearn) (0.22.1)\n",
      "Requirement already satisfied: joblib>=0.11 in /opt/anaconda3/lib/python3.7/site-packages (from scikit-learn->sklearn) (0.14.1)\n",
      "Requirement already satisfied: scipy>=0.17.0 in /opt/anaconda3/lib/python3.7/site-packages (from scikit-learn->sklearn) (1.4.1)\n",
      "Requirement already satisfied: numpy>=1.11.0 in /opt/anaconda3/lib/python3.7/site-packages (from scikit-learn->sklearn) (1.18.1)\n",
      "Building wheels for collected packages: sklearn\n",
      "  Building wheel for sklearn (setup.py) ... \u001b[?25ldone\n",
      "\u001b[?25h  Created wheel for sklearn: filename=sklearn-0.0-py2.py3-none-any.whl size=1315 sha256=b6a6ad375afe53404b2dd8909215a51cd738218e9b60ec05342bcfe2df63a4db\n",
      "  Stored in directory: /Users/jungwons/Library/Caches/pip/wheels/46/ef/c3/157e41f5ee1372d1be90b09f74f82b10e391eaacca8f22d33e\n",
      "Successfully built sklearn\n",
      "Installing collected packages: sklearn\n",
      "Successfully installed sklearn-0.0\n"
     ]
    }
   ],
   "source": [
    "import sys\n",
    "!{sys.executable} -m pip install sklearn"
   ]
  },
  {
   "cell_type": "code",
   "execution_count": 12,
   "metadata": {},
   "outputs": [],
   "source": [
    "from sklearn.neighbors import KNeighborsClassifier\n",
    "neigh = KNeighborsClassifier(n_neighbors=3)"
   ]
  },
  {
   "cell_type": "code",
   "execution_count": 13,
   "metadata": {},
   "outputs": [
    {
     "data": {
      "text/plain": [
       "KNeighborsClassifier(algorithm='auto', leaf_size=30, metric='minkowski',\n",
       "                     metric_params=None, n_jobs=None, n_neighbors=3, p=2,\n",
       "                     weights='uniform')"
      ]
     },
     "execution_count": 13,
     "metadata": {},
     "output_type": "execute_result"
    }
   ],
   "source": [
    "neigh.fit(X, y)"
   ]
  },
  {
   "cell_type": "code",
   "execution_count": 14,
   "metadata": {},
   "outputs": [
    {
     "name": "stdout",
     "output_type": "stream",
     "text": [
      "[0]\n"
     ]
    }
   ],
   "source": [
    "print(neigh.predict([[5,5]]))"
   ]
  },
  {
   "cell_type": "code",
   "execution_count": null,
   "metadata": {},
   "outputs": [],
   "source": []
  }
 ],
 "metadata": {
  "kernelspec": {
   "display_name": "Python 3",
   "language": "python",
   "name": "python3"
  },
  "language_info": {
   "codemirror_mode": {
    "name": "ipython",
    "version": 3
   },
   "file_extension": ".py",
   "mimetype": "text/x-python",
   "name": "python",
   "nbconvert_exporter": "python",
   "pygments_lexer": "ipython3",
   "version": "3.7.6"
  }
 },
 "nbformat": 4,
 "nbformat_minor": 2
}
