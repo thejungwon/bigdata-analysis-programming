{
 "cells": [
  {
   "cell_type": "markdown",
   "metadata": {},
   "source": [
    "# TASK 설명"
   ]
  },
  {
   "cell_type": "markdown",
   "metadata": {},
   "source": [
    "BTS가 세계적인 인기를 얻고 있습니다. \n",
    "한국 음악이 이렇게 세계적으로 유명해 질 수 있었던 이유는 영어를 잘 섞어줘서라는 의견이 나왔습니다. (제 개인의견)\n",
    "\n",
    "다음 BTS 노래 가사의 영어 단어와 한국어 단어의 수를 구해주세요."
   ]
  },
  {
   "cell_type": "code",
   "execution_count": 1,
   "metadata": {},
   "outputs": [],
   "source": [
    "text = '''모든 게 궁금해 how's your day\n",
    "Oh tell me (oh yeah yeah, ah yeh ah yeh)\n",
    "뭐가 널 행복하게 하는지\n",
    "Oh text me (oh yeah yeah, ah yeh ah yeh)\n",
    "Your every picture\n",
    "내 머리맡에 두고 싶어 oh bae\n",
    "Come be my teacher\n",
    "네 모든 걸 다 가르쳐줘\n",
    "Your one, your two\n",
    "Listen my my baby 나는\n",
    "저 하늘을 높이 날고 있어\n",
    "(그때 니가 내게 줬던 두 날개로)\n",
    "이제 여긴 너무 높아\n",
    "난 내 눈에 널 맞추고 싶어\n",
    "Yeah you makin' me a boy with love\n",
    "Oh my my my, oh my my my\n",
    "I've waited all my life\n",
    "네 전부를 함께하고 싶어\n",
    "Oh my my my, oh my my my\n",
    "Looking for something right\n",
    "이제 조금은 나 알겠어\n",
    "than a moment, than a moment, love\n",
    "(Ooh ah ooh ah ooh ah ooh ah ah) I have waited longer\n",
    "(Ooh ah ooh ah ooh ah ooh ah ooh) \n",
    "For a boy with, for a boy with love\n",
    "널 알게 된 이후 ya 내 삶은 온통 너 ya\n",
    "사소한 게 사소하지 않게 만들어버린 너라는 별\n",
    "(Oh yeah) 하나부터 열까지 ay ay 모든 게 특별하지 ay ay\n",
    "너의 관심사 걸음걸이 말투와 \n",
    "사소한 작은 습관들까지 (oh ah)\n",
    "Ay 다 말하지 너무 작던 내가 영웅이 된 거라고 (oh nah)\n",
    "난 말하지 운명 따윈 처음부터 내 게 아니었다고 (oh nah)\n",
    "세계의 평화 (no way)\n",
    "거대한 질서 (no way)\n",
    "그저 널 지킬 거야 난 (boy with love)\n",
    "Listen my my baby 나는\n",
    "저 하늘을 높이 날고 있어\n",
    "(그때 니가 내게 줬던 두 날개로)\n",
    "이제 여긴 너무 높아\n",
    "난 내 눈에 널 맞추고 싶어\n",
    "Yeah you makin' me a boy with love\n",
    "Oh my my my, oh my my my\n",
    "You got me high so fast\n",
    "네 전부를 함께하고 싶어\n",
    "Oh my my my, oh my my my\n",
    "You got me fly so fast\n",
    "이제 조금은 나 알겠어\n",
    "than a boy with love \n",
    "(Ooh ah ooh ah ooh ah ooh ah ah) love is nothing stronger\n",
    "(Ooh ah ooh ah ooh ah ooh ah ooh) (than a boy with) than a boy with love\n",
    "툭 까놓고 말할게\n",
    "나도 모르게 힘이 들어가기도 했어\n",
    "높아버린 sky, 커져버린 hall\n",
    "때론 도망치게 해달라며 기도했어\n",
    "But 너의 상처는 나의 상처\n",
    "깨달았을 때 나 다짐했던걸\n",
    "니가 준 이카루스의 날개로\n",
    "태양이 아닌 너에게로\n",
    "Let me fly\n",
    "Oh my my my, oh my my my\n",
    "I've waited all my life\n",
    "네 전부를 함께하고 싶어\n",
    "Oh my my my, oh my my my\n",
    "Looking for something right\n",
    "이제 조금은 나 알겠어\n",
    "than a moment, than a moment, love\n",
    "(Ooh ah ooh ah ooh ah ooh ah ah) love is nothing stronger\n",
    "(Ooh ah ooh ah ooh ah ooh ah ooh) (than a boy with) than a boy with love'''"
   ]
  },
  {
   "cell_type": "code",
   "execution_count": 29,
   "metadata": {},
   "outputs": [],
   "source": [
    "# string의 replace 함수를 이용하여, 불필요한 문자나 대체되어야 할 문자들을 처리해주세요.\n",
    "\n",
    "clean_text = text#.replace(\"\",\"\")"
   ]
  },
  {
   "cell_type": "code",
   "execution_count": 30,
   "metadata": {},
   "outputs": [],
   "source": [
    "words = clean_text.split()"
   ]
  },
  {
   "cell_type": "code",
   "execution_count": 31,
   "metadata": {},
   "outputs": [
    {
     "name": "stdout",
     "output_type": "stream",
     "text": [
      "전체 446 중, 한글 165단어, 영어 281단어\n"
     ]
    }
   ],
   "source": [
    "# 정리된 문자 리스트를 이용하여, 어떤 단어가 영문인지 한글인지 구별하여 (if-elif 이용) 각가의 단어 수를 세어주세요.\n",
    "\n",
    "eng_cnt = 0\n",
    "kor_cnt = 0\n",
    "for word in words :\n",
    "    ## 코드를 작성해주세요\n",
    "    pass\n",
    "\n",
    "print(f\"전체 {len(words)} 중, 한글 {kor_cnt}단어, 영어 {eng_cnt}단어\")"
   ]
  },
  {
   "cell_type": "code",
   "execution_count": 1,
   "metadata": {},
   "outputs": [],
   "source": [
    "# 만약 중복 없이 단어 수를 비교하려 한다면 어떻게 작성 할 수 있을까요?"
   ]
  },
  {
   "cell_type": "code",
   "execution_count": 2,
   "metadata": {},
   "outputs": [],
   "source": []
  },
  {
   "cell_type": "code",
   "execution_count": null,
   "metadata": {},
   "outputs": [],
   "source": []
  }
 ],
 "metadata": {
  "kernelspec": {
   "display_name": "Python 3",
   "language": "python",
   "name": "python3"
  },
  "language_info": {
   "codemirror_mode": {
    "name": "ipython",
    "version": 3
   },
   "file_extension": ".py",
   "mimetype": "text/x-python",
   "name": "python",
   "nbconvert_exporter": "python",
   "pygments_lexer": "ipython3",
   "version": "3.6.8"
  }
 },
 "nbformat": 4,
 "nbformat_minor": 2
}
