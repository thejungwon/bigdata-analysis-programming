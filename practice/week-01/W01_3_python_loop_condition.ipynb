{
 "cells": [
  {
   "cell_type": "markdown",
   "metadata": {},
   "source": [
    "# BIG DATA ANALYSIS : Python Basic\n",
    "---"
   ]
  },
  {
   "cell_type": "markdown",
   "metadata": {},
   "source": [
    "## 1. 조건문 (condition statement)"
   ]
  },
  {
   "cell_type": "code",
   "execution_count": null,
   "metadata": {},
   "outputs": [],
   "source": [
    "# 일반적인 boolean 변수를 이용한 조건문\n",
    "is_student = True\n",
    "if is_student :\n",
    "    print('나는 학생이다.')\n",
    "else:\n",
    "    print('나는 학생이 아니다.')"
   ]
  },
  {
   "cell_type": "code",
   "execution_count": null,
   "metadata": {},
   "outputs": [],
   "source": [
    "# 정수형 변수에 의한 조건문\n",
    "a = 0\n",
    "b = 3\n",
    "if a :\n",
    "    print('a is not 0')\n",
    "else :\n",
    "    print('a is 0')\n",
    "\n",
    "if b :\n",
    "    print('b is not 0')\n",
    "else :\n",
    "    print('b is 0')"
   ]
  },
  {
   "cell_type": "code",
   "execution_count": null,
   "metadata": {},
   "outputs": [],
   "source": [
    "# Q. Float 0.0은 False로 분류가 될까?\n"
   ]
  },
  {
   "cell_type": "code",
   "execution_count": null,
   "metadata": {},
   "outputs": [],
   "source": [
    "# 문자열 변수에 의한 조건문\n",
    "\n",
    "a = \"\"\n",
    "b = \"hello\"\n",
    "\n",
    "if a :\n",
    "    print(\"Something is in a\")\n",
    "else:\n",
    "    print(\"Something is not in a\")\n",
    "    \n",
    "if b :\n",
    "    print(\"Something is in b\")\n",
    "else:\n",
    "    print(\"Something is not in b\")\n",
    "\n",
    "if 'h' in b:\n",
    "    print('h is in b')\n"
   ]
  },
  {
   "cell_type": "code",
   "execution_count": null,
   "metadata": {},
   "outputs": [],
   "source": [
    "# 리스트형 변수에 의한 조건문\n",
    "a = []\n",
    "b = [1,2,3]\n",
    "\n",
    "if a :\n",
    "    print(\"a is not empty\")\n",
    "else :\n",
    "    print(\"a is empty\")\n",
    "    \n",
    "if b :\n",
    "    print(\"b is not empty\")\n",
    "else :\n",
    "    print(\"b is empty\")\n",
    "    \n",
    "if 1 in b:\n",
    "    print(\"1 is in b\")"
   ]
  },
  {
   "cell_type": "code",
   "execution_count": null,
   "metadata": {},
   "outputs": [],
   "source": [
    "# Q. 왜 다음 조건문은 True가 아닐까?\n",
    "if '1' in b:\n",
    "    print(\"1 is in b\")"
   ]
  },
  {
   "cell_type": "code",
   "execution_count": null,
   "metadata": {},
   "outputs": [],
   "source": [
    "a = {}\n",
    "b = {\"Korea\":10, \"China\":0}\n",
    "\n",
    "if a :\n",
    "    print(\"dict a is not empty\")\n",
    "else :\n",
    "    print(\"dict a is empty\")\n",
    "\n",
    "if \"Korea\" in b:\n",
    "    print(\"Korea is in b\")"
   ]
  },
  {
   "cell_type": "code",
   "execution_count": null,
   "metadata": {},
   "outputs": [],
   "source": [
    "# Q. 10이라는 Value가 dictionary에 있는지는 어떻게 확인할까?"
   ]
  },
  {
   "cell_type": "code",
   "execution_count": null,
   "metadata": {},
   "outputs": [],
   "source": [
    "is_empty = True\n",
    "x = [1,2,3,4]\n",
    "if x :\n",
    "    is_empty = False\n",
    "else:\n",
    "    is_empty = True\n",
    "print(is_empty)"
   ]
  },
  {
   "cell_type": "code",
   "execution_count": null,
   "metadata": {},
   "outputs": [],
   "source": [
    "is_empty = False if x else True\n",
    "print(is_empty)"
   ]
  },
  {
   "cell_type": "markdown",
   "metadata": {},
   "source": [
    "## 2. 반복문 (loop statement)"
   ]
  },
  {
   "cell_type": "code",
   "execution_count": null,
   "metadata": {},
   "outputs": [],
   "source": [
    "# for loop\n",
    "for i in range(0,10):\n",
    "    print(i)"
   ]
  },
  {
   "cell_type": "code",
   "execution_count": null,
   "metadata": {},
   "outputs": [],
   "source": [
    "for i in range(0,10,2):\n",
    "    print(i)"
   ]
  },
  {
   "cell_type": "code",
   "execution_count": null,
   "metadata": {},
   "outputs": [],
   "source": [
    "# Q. 10부터 0까지는 1씩 감소하는 for loop는?"
   ]
  },
  {
   "cell_type": "code",
   "execution_count": null,
   "metadata": {},
   "outputs": [],
   "source": [
    "list_a = ['Orange', 'Apple', 'Banana']\n",
    "dict_a = {'Orange':3, 'Apple':4, 'Banana':2}"
   ]
  },
  {
   "cell_type": "code",
   "execution_count": null,
   "metadata": {},
   "outputs": [],
   "source": [
    "for a in list_a:\n",
    "    print(a)"
   ]
  },
  {
   "cell_type": "code",
   "execution_count": null,
   "metadata": {},
   "outputs": [],
   "source": [
    "for index, value in enumerate(list_a):\n",
    "    print(index, value)"
   ]
  },
  {
   "cell_type": "code",
   "execution_count": null,
   "metadata": {},
   "outputs": [],
   "source": [
    "for a in dict_a:\n",
    "    print(a)"
   ]
  },
  {
   "cell_type": "code",
   "execution_count": null,
   "metadata": {},
   "outputs": [],
   "source": [
    "for a in dict_a:\n",
    "    print(a, dict_a[a])"
   ]
  },
  {
   "cell_type": "code",
   "execution_count": null,
   "metadata": {},
   "outputs": [],
   "source": [
    "for k,v in dict_a.items():\n",
    "    print(k, v)"
   ]
  },
  {
   "cell_type": "code",
   "execution_count": null,
   "metadata": {},
   "outputs": [],
   "source": [
    "import time"
   ]
  },
  {
   "cell_type": "code",
   "execution_count": null,
   "metadata": {},
   "outputs": [],
   "source": [
    "# 0 부터 9999999까지 원소를 갖는 list x를 만들어보자 Option 1\n",
    "start_time = time.time()\n",
    "x = []\n",
    "for i in range(0,10000000):\n",
    "    x.append(i)\n",
    "\n",
    "print(f\"{time.time()-start_time:.2f} 초\")"
   ]
  },
  {
   "cell_type": "code",
   "execution_count": null,
   "metadata": {},
   "outputs": [],
   "source": [
    "# 0 부터 9999999까지 원소를 갖는 list x를 만들어보자 Option 2\n",
    "start_time = time.time()\n",
    "x = [i for i in range(0,10000000)]\n",
    "print(f\"{time.time()-start_time:.2f} 초\")"
   ]
  },
  {
   "cell_type": "code",
   "execution_count": null,
   "metadata": {},
   "outputs": [],
   "source": []
  }
 ],
 "metadata": {
  "kernelspec": {
   "display_name": "Python 3",
   "language": "python",
   "name": "python3"
  },
  "language_info": {
   "codemirror_mode": {
    "name": "ipython",
    "version": 3
   },
   "file_extension": ".py",
   "mimetype": "text/x-python",
   "name": "python",
   "nbconvert_exporter": "python",
   "pygments_lexer": "ipython3",
   "version": "3.6.8"
  }
 },
 "nbformat": 4,
 "nbformat_minor": 2
}
