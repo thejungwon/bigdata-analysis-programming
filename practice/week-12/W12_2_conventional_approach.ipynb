{
 "cells": [
  {
   "cell_type": "markdown",
   "metadata": {},
   "source": [
    "# BIG DATA ANALYSIS : 주식가격 예측\n",
    "## 골든 크로스와 데드 크로스\n",
    "\n",
    "- 골든크로스: 단기 이동평균선이 장기 이동평균선을 관통하여 상승\n",
    "- 데드크로스: 단기 이동평균선이 장기 이동평균선을 관통하여 하락\n",
    "---"
   ]
  },
  {
   "cell_type": "code",
   "execution_count": null,
   "metadata": {},
   "outputs": [],
   "source": [
    "import sys\n",
    "!{sys.executable} -m pip install pandas-datareader"
   ]
  },
  {
   "cell_type": "markdown",
   "metadata": {},
   "source": [
    "## 1. Pandas를 이용한 이동평균 계산"
   ]
  },
  {
   "cell_type": "code",
   "execution_count": null,
   "metadata": {},
   "outputs": [],
   "source": [
    "import pandas as pd"
   ]
  },
  {
   "cell_type": "code",
   "execution_count": null,
   "metadata": {
    "scrolled": true
   },
   "outputs": [],
   "source": [
    "data = [1,2,3,4,5,6,7,8,9,10]\n",
    "df = pd.DataFrame(data)\n",
    "window = 2\n",
    "MA = df[0].rolling(window=window).mean()\n",
    "print(MA)"
   ]
  },
  {
   "cell_type": "code",
   "execution_count": null,
   "metadata": {},
   "outputs": [],
   "source": [
    "# Q window 값을 바꿔가면서 확인해보세요!"
   ]
  },
  {
   "cell_type": "markdown",
   "metadata": {},
   "source": [
    "## 2. 롯데 칠성 주가 데이터 확보"
   ]
  },
  {
   "cell_type": "code",
   "execution_count": null,
   "metadata": {},
   "outputs": [],
   "source": [
    "import pandas as pd\n",
    "import pandas_datareader.data as web\n",
    "#종목코드, 데이터 요청 서비스, 시작날짜, 종료날짜\n",
    "gs = web.DataReader(\"005300.KS\", \"yahoo\", \"2014-01-01\")"
   ]
  },
  {
   "cell_type": "code",
   "execution_count": null,
   "metadata": {},
   "outputs": [],
   "source": [
    "gs.head()"
   ]
  },
  {
   "cell_type": "code",
   "execution_count": null,
   "metadata": {},
   "outputs": [],
   "source": [
    "import matplotlib.pyplot as plt\n",
    "# 조정종가 기준으로 값 확인\n",
    "plt.plot(gs.index,gs['Adj Close'])"
   ]
  },
  {
   "cell_type": "code",
   "execution_count": null,
   "metadata": {},
   "outputs": [],
   "source": [
    "# 5일 이동평균 계산\n",
    "ma5 = gs['Adj Close'].rolling(window=5).mean()"
   ]
  },
  {
   "cell_type": "code",
   "execution_count": null,
   "metadata": {},
   "outputs": [],
   "source": [
    "new_gs = gs[gs['Volume'] !=0]"
   ]
  },
  {
   "cell_type": "code",
   "execution_count": null,
   "metadata": {},
   "outputs": [],
   "source": [
    "# 데이터 프레임에 새로운 데이터 삽입\n",
    "new_gs.insert(len(new_gs.columns), \"MA5\", ma5)"
   ]
  },
  {
   "cell_type": "code",
   "execution_count": null,
   "metadata": {
    "scrolled": true
   },
   "outputs": [],
   "source": [
    "plt.plot(new_gs.index, new_gs['Adj Close'], label='Adj Close')\n",
    "plt.plot(new_gs.index, new_gs['MA5'], label='MA5')\n",
    "plt.legend(loc='best')"
   ]
  },
  {
   "cell_type": "code",
   "execution_count": null,
   "metadata": {},
   "outputs": [],
   "source": [
    "# Q 300일에 대한 이동평균을 구해보세요!"
   ]
  },
  {
   "cell_type": "markdown",
   "metadata": {},
   "source": [
    "## 장기 이동평균, 단기 이동평균을 한번에 표현하여, 골든크로스/데드크로스 확인하기"
   ]
  },
  {
   "cell_type": "code",
   "execution_count": null,
   "metadata": {},
   "outputs": [],
   "source": [
    "import pandas as pd\n",
    "import pandas_datareader.data as web\n",
    "import matplotlib.pyplot as plt\n",
    "\n",
    "# Get GS Data from Yahoo\n",
    "gs = web.DataReader(\"005300.KS\", \"yahoo\", \"2014-01-01\")\n",
    "new_gs = gs[gs['Volume']!=0]\n",
    "\n",
    "# Moving average\n",
    "ma5 = new_gs['Adj Close'].rolling(window=5).mean()\n",
    "ma20 = new_gs['Adj Close'].rolling(window=20).mean()\n",
    "ma60 = new_gs['Adj Close'].rolling(window=60).mean()\n",
    "ma120 = new_gs['Adj Close'].rolling(window=120).mean()\n",
    "\n",
    "# Insert columns\n",
    "new_gs.insert(len(new_gs.columns), \"MA5\", ma5)\n",
    "new_gs.insert(len(new_gs.columns), \"MA20\", ma20)\n",
    "new_gs.insert(len(new_gs.columns), \"MA60\", ma60)\n",
    "new_gs.insert(len(new_gs.columns), \"MA120\", ma120)\n",
    "\n",
    "\n",
    "plt.figure(figsize=(20,10))\n",
    "\n",
    "\n",
    "# Plot\n",
    "plt.plot(new_gs.index, new_gs['Adj Close'], label='Adj Close')\n",
    "# plt.plot(new_gs.index, new_gs['MA5'], label='MA5')\n",
    "plt.plot(new_gs.index, new_gs['MA20'], label='MA20')\n",
    "# plt.plot(new_gs.index, new_gs['MA60'], label='MA60')\n",
    "plt.plot(new_gs.index, new_gs['MA120'], label='MA120')\n",
    "\n",
    "plt.legend(loc=\"best\")\n",
    "plt.grid()\n",
    "plt.show()"
   ]
  },
  {
   "cell_type": "code",
   "execution_count": null,
   "metadata": {},
   "outputs": [],
   "source": []
  }
 ],
 "metadata": {
  "kernelspec": {
   "display_name": "Python 3",
   "language": "python",
   "name": "python3"
  },
  "language_info": {
   "codemirror_mode": {
    "name": "ipython",
    "version": 3
   },
   "file_extension": ".py",
   "mimetype": "text/x-python",
   "name": "python",
   "nbconvert_exporter": "python",
   "pygments_lexer": "ipython3",
   "version": "3.7.6"
  }
 },
 "nbformat": 4,
 "nbformat_minor": 4
}
